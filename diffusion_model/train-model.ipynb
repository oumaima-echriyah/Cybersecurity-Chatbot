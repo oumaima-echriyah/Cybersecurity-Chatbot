{
 "cells": [
  {
   "cell_type": "code",
   "execution_count": 112,
   "id": "12993018-d044-43c8-b197-79eb239eb35d",
   "metadata": {},
   "outputs": [],
   "source": [
    "# pytorch mlp for binary classification\n",
    "from numpy import vstack\n",
    "from pandas import read_csv\n",
    "from sklearn.preprocessing import LabelEncoder\n",
    "from sklearn.metrics import accuracy_score\n",
    "from torch.utils.data import Dataset\n",
    "from torch.utils.data import DataLoader\n",
    "from torch.utils.data import random_split\n",
    "from torch import Tensor\n",
    "from torch.nn import Linear\n",
    "from torch.nn import ReLU\n",
    "from torch.nn import Sigmoid\n",
    "from torch.nn import Module\n",
    "from torch.optim import SGD\n",
    "from torch.nn import BCELoss\n",
    "from torch.nn.init import kaiming_uniform_\n",
    "from torch.nn.init import xavier_uniform_\n",
    "from tqdm import tqdm"
   ]
  },
  {
   "cell_type": "code",
   "execution_count": 113,
   "id": "1a428705-d012-453b-9d69-3cd832849ffa",
   "metadata": {},
   "outputs": [],
   "source": [
    "from pandas import read_csv\n",
    "from sklearn.preprocessing import LabelEncoder, StandardScaler\n",
    "from torch.utils.data import Dataset, random_split\n",
    "import json\n",
    "from pandas import read_csv\n",
    "from sklearn.preprocessing import LabelEncoder, StandardScaler\n",
    "from torch.utils.data import Dataset, random_split\n",
    "\n",
    "class CSVDataset(Dataset):\n",
    "    # load the dataset\n",
    "    def __init__(self, path):\n",
    "        # load the csv file as a dataframe\n",
    "        df = read_csv(path)\n",
    "        \n",
    "        # encode the 'Protocole' column\n",
    "        if 'Protocol' in df.columns:  # Check if the column exists\n",
    "            self.le_protocole = LabelEncoder()\n",
    "            df['Protocol'] = self.le_protocole.fit_transform(df['Protocol'])\n",
    "        \n",
    "        # store the inputs and outputs\n",
    "        self.X = df.drop(columns=df.columns[-1]).values  # Drop the last column for features\n",
    "        self.y = df.iloc[:, -1].values  # Last column is the target\n",
    "        \n",
    "        # ensure input data is floats\n",
    "        self.X = self.X.astype('float32')\n",
    "        \n",
    "        # normalize the input features\n",
    "        self.scaler = StandardScaler()  # You can use MinMaxScaler() for [0, 1] range\n",
    "        self.X = self.scaler.fit_transform(self.X)\n",
    "        \n",
    "        # label encode target and ensure the values are floats\n",
    "        self.y = LabelEncoder().fit_transform(self.y)\n",
    "        self.y = self.y.astype('float32')\n",
    "        self.y = self.y.reshape((len(self.y), 1))\n",
    " \n",
    "    # number of rows in the dataset\n",
    "    def __len__(self):\n",
    "        return len(self.X)\n",
    " \n",
    "    # get a row at an index\n",
    "    def __getitem__(self, idx):\n",
    "        return [self.X[idx], self.y[idx]]\n",
    " \n",
    "    # get indexes for train and test rows\n",
    "    def get_splits(self, n_test=0.33):\n",
    "        # determine sizes\n",
    "        test_size = round(n_test * len(self.X))\n",
    "        train_size = len(self.X) - test_size\n",
    "        # calculate the split\n",
    "        return random_split(self, [train_size, test_size])\n",
    "\n",
    "    # Method to save only the X values as JSON\n",
    "    def save_row_as_json(self, idx, filename):\n",
    "        # Extraire la ligne spécifiée (X)\n",
    "        row = self[idx]  # Cela appelle __getitem__\n",
    "        features = row[0]  # Caractéristiques (X)\n",
    "\n",
    "        # Créer un dictionnaire avec les données\n",
    "        data = {\n",
    "            'features': features.tolist()  # Convertir en liste pour JSON\n",
    "        }\n",
    "\n",
    "        # Sauvegarder le dictionnaire en JSON\n",
    "        with open(filename, 'w') as f:\n",
    "            json.dump(data, f)\n",
    "    def print_data(self):\n",
    "        print(\"Scaled and Normalized Features (X):\")\n",
    "        print(self.X)\n",
    "        print(\"Labels (y):\")\n",
    "        print(self.y)\n",
    "\n",
    "    def get_row_for_prediction(self, idx):\n",
    "        \"\"\"\n",
    "        This method returns the row of X (features) for a given index (idx).\n",
    "        Useful for making predictions with a trained model.\n",
    "        \"\"\"\n",
    "        return self.X[idx]\n",
    "\n",
    "   \n"
   ]
  },
  {
   "cell_type": "code",
   "execution_count": 114,
   "id": "3da65d89-4fc1-414b-86c2-e338b0e818d0",
   "metadata": {},
   "outputs": [],
   "source": [
    "import torch\n",
    "from torch.nn import Module, Linear, ReLU, Sigmoid, Dropout\n",
    "from torch.nn.init import kaiming_uniform_, xavier_uniform_\n",
    "\n",
    "class MLP(Module):\n",
    "    def __init__(self, n_inputs, dropout_prob=0.5):\n",
    "        super(MLP, self).__init__()\n",
    "        # Couche 1\n",
    "        self.hidden1 = Linear(n_inputs, 128)\n",
    "        kaiming_uniform_(self.hidden1.weight, nonlinearity='relu')\n",
    "        self.act1 = ReLU()\n",
    "        self.dropout1 = Dropout(dropout_prob)  # Dropout après la première couche cachée\n",
    "        \n",
    "        # Couche 2\n",
    "        self.hidden2 = Linear(128, 64)\n",
    "        kaiming_uniform_(self.hidden2.weight, nonlinearity='relu')\n",
    "        self.act2 = ReLU()\n",
    "        self.dropout2 = Dropout(dropout_prob)  # Dropout après la deuxième couche cachée\n",
    "        \n",
    "        # Couche 3\n",
    "        self.hidden3 = Linear(64, 32)\n",
    "        kaiming_uniform_(self.hidden3.weight, nonlinearity='relu')\n",
    "        self.act3 = ReLU()\n",
    "        self.dropout3 = Dropout(dropout_prob)  # Dropout après la troisième couche cachée\n",
    "        \n",
    "        # Couche de sortie\n",
    "        self.output = Linear(32, 1)\n",
    "        xavier_uniform_(self.output.weight)\n",
    "        self.act_out = Sigmoid()\n",
    "\n",
    "    def forward(self, X):\n",
    "        X = self.hidden1(X)\n",
    "        X = self.act1(X)\n",
    "        X = self.dropout1(X)  # Appliquer le dropout après la première couche\n",
    "        X = self.hidden2(X)\n",
    "        X = self.act2(X)\n",
    "        X = self.dropout2(X)  # Appliquer le dropout après la deuxième couche\n",
    "        X = self.hidden3(X)\n",
    "        X = self.act3(X)\n",
    "        X = self.dropout3(X)  # Appliquer le dropout après la troisième couche\n",
    "        X = self.output(X)\n",
    "        X = self.act_out(X)\n",
    "        return X\n"
   ]
  },
  {
   "cell_type": "code",
   "execution_count": 115,
   "id": "e0ddc9bf-454d-4343-a770-4fe65abde9c1",
   "metadata": {},
   "outputs": [],
   "source": [
    "# prepare the dataset\n",
    "def prepare_data(path):\n",
    "    # load the dataset\n",
    "    dataset = CSVDataset(path)\n",
    "    # calculate split\n",
    "    train, test = dataset.get_splits()\n",
    "    # prepare data loaders\n",
    "    train_dl = DataLoader(train, batch_size=512, shuffle=True)\n",
    "    test_dl = DataLoader(test, batch_size=512, shuffle=False)\n",
    "    return train_dl, test_dl"
   ]
  },
  {
   "cell_type": "code",
   "execution_count": 116,
   "id": "9d0eccfc-8a9e-4b9e-a584-aa38377dcbdc",
   "metadata": {},
   "outputs": [],
   "source": [
    "from sklearn.metrics import accuracy_score\n",
    "import torch\n",
    "from torch.nn import BCELoss\n",
    "from torch.optim import SGD\n",
    "from tqdm import tqdm\n",
    "from numpy import vstack\n",
    "import matplotlib.pyplot as plt\n",
    "\n",
    "# Function to train the model\n",
    "from sklearn.metrics import accuracy_score\n",
    "import torch\n",
    "from torch.nn import BCELoss\n",
    "from torch.optim import SGD\n",
    "from tqdm import tqdm\n",
    "from numpy import vstack\n",
    "import matplotlib.pyplot as plt\n",
    "\n",
    "# Function to train the model\n",
    "def train_model(train_dl, test_dl, model):\n",
    "    train_accs = []  # Liste pour stocker la précision d'entraînement\n",
    "    test_accs = []   # Liste pour stocker la précision de test\n",
    "    train_losses = []  # Liste pour stocker la perte d'entraînement\n",
    "    test_losses = []   # Liste pour stocker la perte de test\n",
    "\n",
    "    size = len(train_dl.dataset)\n",
    "    criterion = BCELoss()\n",
    "    optimizer = SGD(model.parameters(), lr=0.01, momentum=0.9,weight_decay=1e-5)\n",
    "\n",
    "    # Entraînement pendant 100 époques\n",
    "    for epoch in tqdm(range(100), desc='Training Epochs'):\n",
    "        print(f\"Epoch {epoch+1}\\n-------------------------------\")\n",
    "        \n",
    "        # Entraînement sur les mini-batchs\n",
    "        epoch_train_loss = 0  # Variable pour stocker la perte cumulée d'entraînement\n",
    "        for batch, (inputs, targets) in enumerate(train_dl):\n",
    "            optimizer.zero_grad()  # Annuler les gradients\n",
    "            yhat = model(inputs)   # Calculer les prédictions\n",
    "            loss = criterion(yhat, targets)  # Calculer la perte\n",
    "            loss.backward()  # Rétropropagation des gradients\n",
    "            optimizer.step()  # Mise à jour des poids\n",
    "            \n",
    "            epoch_train_loss += loss.item()  # Ajouter la perte du batch à la perte d'entraînement\n",
    "\n",
    "        # Calcul de la perte moyenne pour l'entraînement\n",
    "        avg_train_loss = epoch_train_loss / len(train_dl)\n",
    "        train_losses.append(avg_train_loss)  # Ajouter la perte moyenne d'entraînement à la liste\n",
    "\n",
    "        # Calcul de la précision d'entraînement et de test à la fin de chaque époque\n",
    "        train_accuracy = evaluate_model(train_dl, model)\n",
    "        test_accuracy = evaluate_model(test_dl, model)\n",
    "        \n",
    "        # Calcul de la perte sur l'ensemble de test\n",
    "        test_loss = evaluate_loss(test_dl, model, criterion)\n",
    "        \n",
    "        # Ajouter les précisions et pertes à la liste\n",
    "        train_accs.append(train_accuracy)\n",
    "        test_accs.append(test_accuracy)\n",
    "        test_losses.append(test_loss)\n",
    "\n",
    "        print(f\"Train Accuracy: {train_accuracy*100:.2f}%  Test Accuracy: {test_accuracy*100:.2f}%  Train Loss: {avg_train_loss:.4f}  Test Loss: {test_loss:.4f}\")\n",
    "    \n",
    "    # Tracer les courbes de précision et de perte\n",
    "    plot_accuracy(train_accs, test_accs)\n",
    "    plot_loss(train_losses, test_losses)\n"
   ]
  },
  {
   "cell_type": "code",
   "execution_count": 117,
   "id": "2ed7f22f-1d36-4fde-8d6c-21677a1f4e8f",
   "metadata": {},
   "outputs": [],
   "source": [
    "def evaluate_model(data_dl, model):\n",
    "    predictions, actuals = list(), list()\n",
    "    for inputs, targets in data_dl:\n",
    "        yhat = model(inputs)\n",
    "        yhat = yhat.detach().numpy()\n",
    "        actual = targets.numpy()\n",
    "        actual = actual.reshape((len(actual), 1))\n",
    "        yhat = yhat.round()\n",
    "        predictions.append(yhat)\n",
    "        actuals.append(actual)\n",
    "    \n",
    "    predictions, actuals = vstack(predictions), vstack(actuals)\n",
    "    acc = accuracy_score(actuals, predictions)\n",
    "    return acc\n",
    "\n",
    "# Function to evaluate the loss of the model\n",
    "def evaluate_loss(data_dl, model, criterion):\n",
    "    model.eval()  # Set the model to evaluation mode\n",
    "    total_loss = 0\n",
    "    with torch.no_grad():  # No gradients needed for evaluation\n",
    "        for inputs, targets in data_dl:\n",
    "            yhat = model(inputs)\n",
    "            loss = criterion(yhat, targets)\n",
    "            total_loss += loss.item()\n",
    "    \n",
    "    # Calculer la perte moyenne sur l'ensemble de test\n",
    "    avg_loss = total_loss / len(data_dl)\n",
    "    model.train()  # Revenir en mode entraînement\n",
    "    return avg_loss"
   ]
  },
  {
   "cell_type": "code",
   "execution_count": 118,
   "id": "a5d6f0f8-5af4-4ac7-a8d7-ca4ad58ee23a",
   "metadata": {},
   "outputs": [],
   "source": [
    "def plot_accuracy(train_accs, test_accs):\n",
    "    plt.figure(figsize=(10, 6))\n",
    "    plt.plot(train_accs, label=\"Train Accuracy\", color='blue', linestyle='-', marker='o')\n",
    "    plt.plot(test_accs, label=\"Test Accuracy\", color='red', linestyle='-', marker='o')\n",
    "    plt.title('Training and Test Accuracy over Epochs')\n",
    "    plt.xlabel('Epochs')\n",
    "    plt.ylabel('Accuracy')\n",
    "    plt.legend()\n",
    "    plt.grid(True)\n",
    "    plt.show()\n",
    "\n",
    "# Function to plot the loss\n",
    "def plot_loss(train_losses, test_losses):\n",
    "    plt.figure(figsize=(10, 6))\n",
    "    plt.plot(train_losses, label=\"Train Loss\", color='green', linestyle='-', marker='o')\n",
    "    plt.plot(test_losses, label=\"Test Loss\", color='orange', linestyle='-', marker='o')\n",
    "    plt.title('Training and Test Loss over Epochs')\n",
    "    plt.xlabel('Epochs')\n",
    "    plt.ylabel('Loss')\n",
    "    plt.legend()\n",
    "    plt.grid(True)\n",
    "    plt.show()"
   ]
  },
  {
   "cell_type": "code",
   "execution_count": 119,
   "id": "0654e370-5a46-4298-af91-13be1e2b37e7",
   "metadata": {},
   "outputs": [
    {
     "name": "stdout",
     "output_type": "stream",
     "text": [
      "305432 150437\n"
     ]
    },
    {
     "name": "stderr",
     "output_type": "stream",
     "text": [
      "Training Epochs:   0%|                                  | 0/100 [00:00<?, ?it/s]"
     ]
    },
    {
     "name": "stdout",
     "output_type": "stream",
     "text": [
      "Epoch 1\n",
      "-------------------------------\n"
     ]
    },
    {
     "name": "stderr",
     "output_type": "stream",
     "text": [
      "Training Epochs:   1%|▎                         | 1/100 [00:11<19:11, 11.63s/it]"
     ]
    },
    {
     "name": "stdout",
     "output_type": "stream",
     "text": [
      "Train Accuracy: 98.75%  Test Accuracy: 98.75%  Train Loss: 0.1796  Test Loss: 0.0346\n",
      "Epoch 2\n",
      "-------------------------------\n"
     ]
    },
    {
     "name": "stderr",
     "output_type": "stream",
     "text": [
      "Training Epochs:   2%|▌                         | 2/100 [00:21<16:55, 10.36s/it]"
     ]
    },
    {
     "name": "stdout",
     "output_type": "stream",
     "text": [
      "Train Accuracy: 99.24%  Test Accuracy: 99.23%  Train Loss: 0.0744  Test Loss: 0.0272\n",
      "Epoch 3\n",
      "-------------------------------\n"
     ]
    },
    {
     "name": "stderr",
     "output_type": "stream",
     "text": [
      "Training Epochs:   3%|▊                         | 3/100 [00:29<15:30,  9.59s/it]"
     ]
    },
    {
     "name": "stdout",
     "output_type": "stream",
     "text": [
      "Train Accuracy: 99.34%  Test Accuracy: 99.37%  Train Loss: 0.0572  Test Loss: 0.0232\n",
      "Epoch 4\n",
      "-------------------------------\n"
     ]
    },
    {
     "name": "stderr",
     "output_type": "stream",
     "text": [
      "Training Epochs:   4%|█                         | 4/100 [00:39<15:20,  9.59s/it]"
     ]
    },
    {
     "name": "stdout",
     "output_type": "stream",
     "text": [
      "Train Accuracy: 99.42%  Test Accuracy: 99.44%  Train Loss: 0.0465  Test Loss: 0.0215\n",
      "Epoch 5\n",
      "-------------------------------\n"
     ]
    },
    {
     "name": "stderr",
     "output_type": "stream",
     "text": [
      "Training Epochs:   5%|█▎                        | 5/100 [00:49<15:32,  9.82s/it]"
     ]
    },
    {
     "name": "stdout",
     "output_type": "stream",
     "text": [
      "Train Accuracy: 99.45%  Test Accuracy: 99.48%  Train Loss: 0.0393  Test Loss: 0.0210\n",
      "Epoch 6\n",
      "-------------------------------\n"
     ]
    },
    {
     "name": "stderr",
     "output_type": "stream",
     "text": [
      "Training Epochs:   6%|█▌                        | 6/100 [00:58<14:58,  9.55s/it]"
     ]
    },
    {
     "name": "stdout",
     "output_type": "stream",
     "text": [
      "Train Accuracy: 99.47%  Test Accuracy: 99.53%  Train Loss: 0.0376  Test Loss: 0.0199\n",
      "Epoch 7\n",
      "-------------------------------\n"
     ]
    },
    {
     "name": "stderr",
     "output_type": "stream",
     "text": [
      "Training Epochs:   7%|█▊                        | 7/100 [01:08<14:48,  9.56s/it]"
     ]
    },
    {
     "name": "stdout",
     "output_type": "stream",
     "text": [
      "Train Accuracy: 99.49%  Test Accuracy: 99.51%  Train Loss: 0.0322  Test Loss: 0.0190\n",
      "Epoch 8\n",
      "-------------------------------\n"
     ]
    },
    {
     "name": "stderr",
     "output_type": "stream",
     "text": [
      "Training Epochs:   8%|██                        | 8/100 [01:19<15:22, 10.03s/it]"
     ]
    },
    {
     "name": "stdout",
     "output_type": "stream",
     "text": [
      "Train Accuracy: 99.51%  Test Accuracy: 99.54%  Train Loss: 0.0303  Test Loss: 0.0187\n",
      "Epoch 9\n",
      "-------------------------------\n"
     ]
    },
    {
     "name": "stderr",
     "output_type": "stream",
     "text": [
      "Training Epochs:   9%|██▎                       | 9/100 [01:29<15:07,  9.98s/it]"
     ]
    },
    {
     "name": "stdout",
     "output_type": "stream",
     "text": [
      "Train Accuracy: 99.52%  Test Accuracy: 99.56%  Train Loss: 0.0293  Test Loss: 0.0179\n",
      "Epoch 10\n",
      "-------------------------------\n"
     ]
    },
    {
     "name": "stderr",
     "output_type": "stream",
     "text": [
      "Training Epochs:  10%|██▌                      | 10/100 [01:38<14:53,  9.93s/it]"
     ]
    },
    {
     "name": "stdout",
     "output_type": "stream",
     "text": [
      "Train Accuracy: 99.54%  Test Accuracy: 99.55%  Train Loss: 0.0293  Test Loss: 0.0182\n",
      "Epoch 11\n",
      "-------------------------------\n"
     ]
    },
    {
     "name": "stderr",
     "output_type": "stream",
     "text": [
      "Training Epochs:  11%|██▊                      | 11/100 [01:48<14:34,  9.83s/it]"
     ]
    },
    {
     "name": "stdout",
     "output_type": "stream",
     "text": [
      "Train Accuracy: 99.54%  Test Accuracy: 99.58%  Train Loss: 0.0275  Test Loss: 0.0175\n",
      "Epoch 12\n",
      "-------------------------------\n"
     ]
    },
    {
     "name": "stderr",
     "output_type": "stream",
     "text": [
      "Training Epochs:  12%|███                      | 12/100 [01:58<14:21,  9.79s/it]"
     ]
    },
    {
     "name": "stdout",
     "output_type": "stream",
     "text": [
      "Train Accuracy: 99.54%  Test Accuracy: 99.57%  Train Loss: 0.0269  Test Loss: 0.0174\n",
      "Epoch 13\n",
      "-------------------------------\n"
     ]
    },
    {
     "name": "stderr",
     "output_type": "stream",
     "text": [
      "Training Epochs:  13%|███▎                     | 13/100 [02:07<13:51,  9.55s/it]"
     ]
    },
    {
     "name": "stdout",
     "output_type": "stream",
     "text": [
      "Train Accuracy: 99.54%  Test Accuracy: 99.58%  Train Loss: 0.0249  Test Loss: 0.0162\n",
      "Epoch 14\n",
      "-------------------------------\n"
     ]
    },
    {
     "name": "stderr",
     "output_type": "stream",
     "text": [
      "Training Epochs:  14%|███▌                     | 14/100 [02:17<13:56,  9.72s/it]"
     ]
    },
    {
     "name": "stdout",
     "output_type": "stream",
     "text": [
      "Train Accuracy: 99.55%  Test Accuracy: 99.61%  Train Loss: 0.0238  Test Loss: 0.0160\n",
      "Epoch 15\n",
      "-------------------------------\n"
     ]
    },
    {
     "name": "stderr",
     "output_type": "stream",
     "text": [
      "Training Epochs:  15%|███▊                     | 15/100 [02:27<14:04,  9.94s/it]"
     ]
    },
    {
     "name": "stdout",
     "output_type": "stream",
     "text": [
      "Train Accuracy: 99.57%  Test Accuracy: 99.59%  Train Loss: 0.0227  Test Loss: 0.0158\n",
      "Epoch 16\n",
      "-------------------------------\n"
     ]
    },
    {
     "name": "stderr",
     "output_type": "stream",
     "text": [
      "Training Epochs:  16%|████                     | 16/100 [02:37<13:57,  9.97s/it]"
     ]
    },
    {
     "name": "stdout",
     "output_type": "stream",
     "text": [
      "Train Accuracy: 99.58%  Test Accuracy: 99.59%  Train Loss: 0.0225  Test Loss: 0.0157\n",
      "Epoch 17\n",
      "-------------------------------\n"
     ]
    },
    {
     "name": "stderr",
     "output_type": "stream",
     "text": [
      "Training Epochs:  17%|████▎                    | 17/100 [02:48<14:08, 10.22s/it]"
     ]
    },
    {
     "name": "stdout",
     "output_type": "stream",
     "text": [
      "Train Accuracy: 99.58%  Test Accuracy: 99.62%  Train Loss: 0.0225  Test Loss: 0.0156\n",
      "Epoch 18\n",
      "-------------------------------\n"
     ]
    },
    {
     "name": "stderr",
     "output_type": "stream",
     "text": [
      "Training Epochs:  18%|████▌                    | 18/100 [02:58<13:42, 10.03s/it]"
     ]
    },
    {
     "name": "stdout",
     "output_type": "stream",
     "text": [
      "Train Accuracy: 99.58%  Test Accuracy: 99.63%  Train Loss: 0.0202  Test Loss: 0.0155\n",
      "Epoch 19\n",
      "-------------------------------\n"
     ]
    },
    {
     "name": "stderr",
     "output_type": "stream",
     "text": [
      "Training Epochs:  19%|████▊                    | 19/100 [03:07<13:13,  9.79s/it]"
     ]
    },
    {
     "name": "stdout",
     "output_type": "stream",
     "text": [
      "Train Accuracy: 99.59%  Test Accuracy: 99.63%  Train Loss: 0.0215  Test Loss: 0.0154\n",
      "Epoch 20\n",
      "-------------------------------\n"
     ]
    },
    {
     "name": "stderr",
     "output_type": "stream",
     "text": [
      "Training Epochs:  20%|█████                    | 20/100 [03:20<14:17, 10.72s/it]"
     ]
    },
    {
     "name": "stdout",
     "output_type": "stream",
     "text": [
      "Train Accuracy: 99.61%  Test Accuracy: 99.63%  Train Loss: 0.0206  Test Loss: 0.0147\n",
      "Epoch 21\n",
      "-------------------------------\n"
     ]
    },
    {
     "name": "stderr",
     "output_type": "stream",
     "text": [
      "Training Epochs:  21%|█████▎                   | 21/100 [03:33<15:05, 11.46s/it]"
     ]
    },
    {
     "name": "stdout",
     "output_type": "stream",
     "text": [
      "Train Accuracy: 99.60%  Test Accuracy: 99.64%  Train Loss: 0.0202  Test Loss: 0.0146\n",
      "Epoch 22\n",
      "-------------------------------\n"
     ]
    },
    {
     "name": "stderr",
     "output_type": "stream",
     "text": [
      "Training Epochs:  22%|█████▌                   | 22/100 [03:44<14:34, 11.22s/it]"
     ]
    },
    {
     "name": "stdout",
     "output_type": "stream",
     "text": [
      "Train Accuracy: 99.60%  Test Accuracy: 99.64%  Train Loss: 0.0207  Test Loss: 0.0144\n",
      "Epoch 23\n",
      "-------------------------------\n"
     ]
    },
    {
     "name": "stderr",
     "output_type": "stream",
     "text": [
      "Training Epochs:  23%|█████▊                   | 23/100 [03:55<14:20, 11.18s/it]"
     ]
    },
    {
     "name": "stdout",
     "output_type": "stream",
     "text": [
      "Train Accuracy: 99.61%  Test Accuracy: 99.65%  Train Loss: 0.0205  Test Loss: 0.0144\n",
      "Epoch 24\n",
      "-------------------------------\n"
     ]
    },
    {
     "name": "stderr",
     "output_type": "stream",
     "text": [
      "Training Epochs:  24%|██████                   | 24/100 [04:07<14:35, 11.53s/it]"
     ]
    },
    {
     "name": "stdout",
     "output_type": "stream",
     "text": [
      "Train Accuracy: 99.61%  Test Accuracy: 99.65%  Train Loss: 0.0206  Test Loss: 0.0143\n",
      "Epoch 25\n",
      "-------------------------------\n"
     ]
    },
    {
     "name": "stderr",
     "output_type": "stream",
     "text": [
      "Training Epochs:  25%|██████▎                  | 25/100 [04:18<14:01, 11.21s/it]"
     ]
    },
    {
     "name": "stdout",
     "output_type": "stream",
     "text": [
      "Train Accuracy: 99.61%  Test Accuracy: 99.64%  Train Loss: 0.0195  Test Loss: 0.0142\n",
      "Epoch 26\n",
      "-------------------------------\n"
     ]
    },
    {
     "name": "stderr",
     "output_type": "stream",
     "text": [
      "Training Epochs:  26%|██████▌                  | 26/100 [04:28<13:41, 11.09s/it]"
     ]
    },
    {
     "name": "stdout",
     "output_type": "stream",
     "text": [
      "Train Accuracy: 99.60%  Test Accuracy: 99.63%  Train Loss: 0.0173  Test Loss: 0.0141\n",
      "Epoch 27\n",
      "-------------------------------\n"
     ]
    },
    {
     "name": "stderr",
     "output_type": "stream",
     "text": [
      "Training Epochs:  27%|██████▊                  | 27/100 [04:38<13:07, 10.79s/it]"
     ]
    },
    {
     "name": "stdout",
     "output_type": "stream",
     "text": [
      "Train Accuracy: 99.62%  Test Accuracy: 99.65%  Train Loss: 0.0185  Test Loss: 0.0140\n",
      "Epoch 28\n",
      "-------------------------------\n"
     ]
    },
    {
     "name": "stderr",
     "output_type": "stream",
     "text": [
      "Training Epochs:  28%|███████                  | 28/100 [04:48<12:33, 10.47s/it]"
     ]
    },
    {
     "name": "stdout",
     "output_type": "stream",
     "text": [
      "Train Accuracy: 99.62%  Test Accuracy: 99.65%  Train Loss: 0.0182  Test Loss: 0.0133\n",
      "Epoch 29\n",
      "-------------------------------\n"
     ]
    },
    {
     "name": "stderr",
     "output_type": "stream",
     "text": [
      "Training Epochs:  29%|███████▏                 | 29/100 [04:59<12:32, 10.59s/it]"
     ]
    },
    {
     "name": "stdout",
     "output_type": "stream",
     "text": [
      "Train Accuracy: 99.61%  Test Accuracy: 99.66%  Train Loss: 0.0182  Test Loss: 0.0126\n",
      "Epoch 30\n",
      "-------------------------------\n"
     ]
    },
    {
     "name": "stderr",
     "output_type": "stream",
     "text": [
      "Training Epochs:  30%|███████▌                 | 30/100 [05:09<12:15, 10.50s/it]"
     ]
    },
    {
     "name": "stdout",
     "output_type": "stream",
     "text": [
      "Train Accuracy: 99.61%  Test Accuracy: 99.66%  Train Loss: 0.0163  Test Loss: 0.0103\n",
      "Epoch 31\n",
      "-------------------------------\n"
     ]
    },
    {
     "name": "stderr",
     "output_type": "stream",
     "text": [
      "Training Epochs:  31%|███████▊                 | 31/100 [05:19<11:49, 10.28s/it]"
     ]
    },
    {
     "name": "stdout",
     "output_type": "stream",
     "text": [
      "Train Accuracy: 99.63%  Test Accuracy: 99.64%  Train Loss: 0.0165  Test Loss: 0.0101\n",
      "Epoch 32\n",
      "-------------------------------\n"
     ]
    },
    {
     "name": "stderr",
     "output_type": "stream",
     "text": [
      "Training Epochs:  32%|████████                 | 32/100 [05:31<12:02, 10.62s/it]"
     ]
    },
    {
     "name": "stdout",
     "output_type": "stream",
     "text": [
      "Train Accuracy: 99.63%  Test Accuracy: 99.66%  Train Loss: 0.0155  Test Loss: 0.0093\n",
      "Epoch 33\n",
      "-------------------------------\n"
     ]
    },
    {
     "name": "stderr",
     "output_type": "stream",
     "text": [
      "Training Epochs:  33%|████████▎                | 33/100 [05:44<12:38, 11.32s/it]"
     ]
    },
    {
     "name": "stdout",
     "output_type": "stream",
     "text": [
      "Train Accuracy: 99.62%  Test Accuracy: 99.68%  Train Loss: 0.0140  Test Loss: 0.0092\n",
      "Epoch 34\n",
      "-------------------------------\n"
     ]
    },
    {
     "name": "stderr",
     "output_type": "stream",
     "text": [
      "Training Epochs:  34%|████████▌                | 34/100 [05:54<12:02, 10.94s/it]"
     ]
    },
    {
     "name": "stdout",
     "output_type": "stream",
     "text": [
      "Train Accuracy: 99.63%  Test Accuracy: 99.64%  Train Loss: 0.0149  Test Loss: 0.0092\n",
      "Epoch 35\n",
      "-------------------------------\n"
     ]
    },
    {
     "name": "stderr",
     "output_type": "stream",
     "text": [
      "Training Epochs:  35%|████████▊                | 35/100 [06:03<11:18, 10.44s/it]"
     ]
    },
    {
     "name": "stdout",
     "output_type": "stream",
     "text": [
      "Train Accuracy: 99.63%  Test Accuracy: 99.65%  Train Loss: 0.0129  Test Loss: 0.0091\n",
      "Epoch 36\n",
      "-------------------------------\n"
     ]
    },
    {
     "name": "stderr",
     "output_type": "stream",
     "text": [
      "Training Epochs:  36%|█████████                | 36/100 [06:12<10:40, 10.00s/it]"
     ]
    },
    {
     "name": "stdout",
     "output_type": "stream",
     "text": [
      "Train Accuracy: 99.64%  Test Accuracy: 99.68%  Train Loss: 0.0141  Test Loss: 0.0092\n",
      "Epoch 37\n",
      "-------------------------------\n"
     ]
    },
    {
     "name": "stderr",
     "output_type": "stream",
     "text": [
      "Training Epochs:  37%|█████████▎               | 37/100 [06:21<10:07,  9.64s/it]"
     ]
    },
    {
     "name": "stdout",
     "output_type": "stream",
     "text": [
      "Train Accuracy: 99.63%  Test Accuracy: 99.68%  Train Loss: 0.0136  Test Loss: 0.0091\n",
      "Epoch 38\n",
      "-------------------------------\n"
     ]
    },
    {
     "name": "stderr",
     "output_type": "stream",
     "text": [
      "Training Epochs:  38%|█████████▌               | 38/100 [06:30<09:49,  9.51s/it]"
     ]
    },
    {
     "name": "stdout",
     "output_type": "stream",
     "text": [
      "Train Accuracy: 99.64%  Test Accuracy: 99.66%  Train Loss: 0.0138  Test Loss: 0.0089\n",
      "Epoch 39\n",
      "-------------------------------\n"
     ]
    },
    {
     "name": "stderr",
     "output_type": "stream",
     "text": [
      "Training Epochs:  39%|█████████▊               | 39/100 [06:42<10:23, 10.22s/it]"
     ]
    },
    {
     "name": "stdout",
     "output_type": "stream",
     "text": [
      "Train Accuracy: 99.65%  Test Accuracy: 99.68%  Train Loss: 0.0110  Test Loss: 0.0088\n",
      "Epoch 40\n",
      "-------------------------------\n"
     ]
    },
    {
     "name": "stderr",
     "output_type": "stream",
     "text": [
      "Training Epochs:  40%|██████████               | 40/100 [06:53<10:24, 10.40s/it]"
     ]
    },
    {
     "name": "stdout",
     "output_type": "stream",
     "text": [
      "Train Accuracy: 99.65%  Test Accuracy: 99.67%  Train Loss: 0.0135  Test Loss: 0.0088\n",
      "Epoch 41\n",
      "-------------------------------\n"
     ]
    },
    {
     "name": "stderr",
     "output_type": "stream",
     "text": [
      "Training Epochs:  41%|██████████▎              | 41/100 [07:03<10:23, 10.56s/it]"
     ]
    },
    {
     "name": "stdout",
     "output_type": "stream",
     "text": [
      "Train Accuracy: 99.64%  Test Accuracy: 99.68%  Train Loss: 0.0119  Test Loss: 0.0087\n",
      "Epoch 42\n",
      "-------------------------------\n"
     ]
    },
    {
     "name": "stderr",
     "output_type": "stream",
     "text": [
      "Training Epochs:  42%|██████████▌              | 42/100 [07:13<09:56, 10.29s/it]"
     ]
    },
    {
     "name": "stdout",
     "output_type": "stream",
     "text": [
      "Train Accuracy: 99.64%  Test Accuracy: 99.67%  Train Loss: 0.0130  Test Loss: 0.0087\n",
      "Epoch 43\n",
      "-------------------------------\n"
     ]
    },
    {
     "name": "stderr",
     "output_type": "stream",
     "text": [
      "Training Epochs:  43%|██████████▊              | 43/100 [07:24<09:58, 10.50s/it]"
     ]
    },
    {
     "name": "stdout",
     "output_type": "stream",
     "text": [
      "Train Accuracy: 99.65%  Test Accuracy: 99.68%  Train Loss: 0.0130  Test Loss: 0.0087\n",
      "Epoch 44\n",
      "-------------------------------\n"
     ]
    },
    {
     "name": "stderr",
     "output_type": "stream",
     "text": [
      "Training Epochs:  44%|███████████              | 44/100 [07:33<09:24, 10.09s/it]"
     ]
    },
    {
     "name": "stdout",
     "output_type": "stream",
     "text": [
      "Train Accuracy: 99.66%  Test Accuracy: 99.69%  Train Loss: 0.0118  Test Loss: 0.0087\n",
      "Epoch 45\n",
      "-------------------------------\n"
     ]
    },
    {
     "name": "stderr",
     "output_type": "stream",
     "text": [
      "Training Epochs:  45%|███████████▎             | 45/100 [07:42<08:59,  9.82s/it]"
     ]
    },
    {
     "name": "stdout",
     "output_type": "stream",
     "text": [
      "Train Accuracy: 99.66%  Test Accuracy: 99.70%  Train Loss: 0.0109  Test Loss: 0.0086\n",
      "Epoch 46\n",
      "-------------------------------\n"
     ]
    },
    {
     "name": "stderr",
     "output_type": "stream",
     "text": [
      "Training Epochs:  46%|███████████▌             | 46/100 [07:56<09:54, 11.01s/it]"
     ]
    },
    {
     "name": "stdout",
     "output_type": "stream",
     "text": [
      "Train Accuracy: 99.66%  Test Accuracy: 99.70%  Train Loss: 0.0119  Test Loss: 0.0086\n",
      "Epoch 47\n",
      "-------------------------------\n"
     ]
    },
    {
     "name": "stderr",
     "output_type": "stream",
     "text": [
      "Training Epochs:  47%|███████████▊             | 47/100 [08:05<09:09, 10.36s/it]"
     ]
    },
    {
     "name": "stdout",
     "output_type": "stream",
     "text": [
      "Train Accuracy: 99.67%  Test Accuracy: 99.68%  Train Loss: 0.0115  Test Loss: 0.0084\n",
      "Epoch 48\n",
      "-------------------------------\n"
     ]
    },
    {
     "name": "stderr",
     "output_type": "stream",
     "text": [
      "Training Epochs:  48%|████████████             | 48/100 [08:15<08:49, 10.17s/it]"
     ]
    },
    {
     "name": "stdout",
     "output_type": "stream",
     "text": [
      "Train Accuracy: 99.66%  Test Accuracy: 99.68%  Train Loss: 0.0127  Test Loss: 0.0084\n",
      "Epoch 49\n",
      "-------------------------------\n"
     ]
    },
    {
     "name": "stderr",
     "output_type": "stream",
     "text": [
      "Training Epochs:  49%|████████████▎            | 49/100 [08:24<08:27,  9.94s/it]"
     ]
    },
    {
     "name": "stdout",
     "output_type": "stream",
     "text": [
      "Train Accuracy: 99.67%  Test Accuracy: 99.67%  Train Loss: 0.0113  Test Loss: 0.0084\n",
      "Epoch 50\n",
      "-------------------------------\n"
     ]
    },
    {
     "name": "stderr",
     "output_type": "stream",
     "text": [
      "Training Epochs:  50%|████████████▌            | 50/100 [08:33<08:04,  9.69s/it]"
     ]
    },
    {
     "name": "stdout",
     "output_type": "stream",
     "text": [
      "Train Accuracy: 99.67%  Test Accuracy: 99.69%  Train Loss: 0.0113  Test Loss: 0.0084\n",
      "Epoch 51\n",
      "-------------------------------\n"
     ]
    },
    {
     "name": "stderr",
     "output_type": "stream",
     "text": [
      "Training Epochs:  51%|████████████▊            | 51/100 [08:42<07:40,  9.39s/it]"
     ]
    },
    {
     "name": "stdout",
     "output_type": "stream",
     "text": [
      "Train Accuracy: 99.66%  Test Accuracy: 99.69%  Train Loss: 0.0115  Test Loss: 0.0084\n",
      "Epoch 52\n",
      "-------------------------------\n"
     ]
    },
    {
     "name": "stderr",
     "output_type": "stream",
     "text": [
      "Training Epochs:  52%|█████████████            | 52/100 [08:53<07:54,  9.88s/it]"
     ]
    },
    {
     "name": "stdout",
     "output_type": "stream",
     "text": [
      "Train Accuracy: 99.67%  Test Accuracy: 99.69%  Train Loss: 0.0115  Test Loss: 0.0083\n",
      "Epoch 53\n",
      "-------------------------------\n"
     ]
    },
    {
     "name": "stderr",
     "output_type": "stream",
     "text": [
      "Training Epochs:  53%|█████████████▎           | 53/100 [09:05<08:08, 10.39s/it]"
     ]
    },
    {
     "name": "stdout",
     "output_type": "stream",
     "text": [
      "Train Accuracy: 99.68%  Test Accuracy: 99.68%  Train Loss: 0.0107  Test Loss: 0.0083\n",
      "Epoch 54\n",
      "-------------------------------\n"
     ]
    },
    {
     "name": "stderr",
     "output_type": "stream",
     "text": [
      "Training Epochs:  54%|█████████████▌           | 54/100 [09:13<07:30,  9.78s/it]"
     ]
    },
    {
     "name": "stdout",
     "output_type": "stream",
     "text": [
      "Train Accuracy: 99.67%  Test Accuracy: 99.70%  Train Loss: 0.0105  Test Loss: 0.0083\n",
      "Epoch 55\n",
      "-------------------------------\n"
     ]
    },
    {
     "name": "stderr",
     "output_type": "stream",
     "text": [
      "Training Epochs:  55%|█████████████▊           | 55/100 [09:23<07:17,  9.71s/it]"
     ]
    },
    {
     "name": "stdout",
     "output_type": "stream",
     "text": [
      "Train Accuracy: 99.68%  Test Accuracy: 99.69%  Train Loss: 0.0100  Test Loss: 0.0081\n",
      "Epoch 56\n",
      "-------------------------------\n"
     ]
    },
    {
     "name": "stderr",
     "output_type": "stream",
     "text": [
      "Training Epochs:  56%|██████████████           | 56/100 [09:32<07:02,  9.61s/it]"
     ]
    },
    {
     "name": "stdout",
     "output_type": "stream",
     "text": [
      "Train Accuracy: 99.68%  Test Accuracy: 99.72%  Train Loss: 0.0108  Test Loss: 0.0080\n",
      "Epoch 57\n",
      "-------------------------------\n"
     ]
    },
    {
     "name": "stderr",
     "output_type": "stream",
     "text": [
      "Training Epochs:  57%|██████████████▏          | 57/100 [09:41<06:46,  9.45s/it]"
     ]
    },
    {
     "name": "stdout",
     "output_type": "stream",
     "text": [
      "Train Accuracy: 99.69%  Test Accuracy: 99.69%  Train Loss: 0.0108  Test Loss: 0.0080\n",
      "Epoch 58\n",
      "-------------------------------\n"
     ]
    },
    {
     "name": "stderr",
     "output_type": "stream",
     "text": [
      "Training Epochs:  58%|██████████████▍          | 58/100 [09:51<06:48,  9.72s/it]"
     ]
    },
    {
     "name": "stdout",
     "output_type": "stream",
     "text": [
      "Train Accuracy: 99.68%  Test Accuracy: 99.72%  Train Loss: 0.0107  Test Loss: 0.0080\n",
      "Epoch 59\n",
      "-------------------------------\n"
     ]
    },
    {
     "name": "stderr",
     "output_type": "stream",
     "text": [
      "Training Epochs:  59%|██████████████▊          | 59/100 [10:02<06:46,  9.92s/it]"
     ]
    },
    {
     "name": "stdout",
     "output_type": "stream",
     "text": [
      "Train Accuracy: 99.69%  Test Accuracy: 99.72%  Train Loss: 0.0111  Test Loss: 0.0080\n",
      "Epoch 60\n",
      "-------------------------------\n"
     ]
    },
    {
     "name": "stderr",
     "output_type": "stream",
     "text": [
      "Training Epochs:  60%|███████████████          | 60/100 [10:11<06:33,  9.83s/it]"
     ]
    },
    {
     "name": "stdout",
     "output_type": "stream",
     "text": [
      "Train Accuracy: 99.69%  Test Accuracy: 99.70%  Train Loss: 0.0098  Test Loss: 0.0080\n",
      "Epoch 61\n",
      "-------------------------------\n"
     ]
    },
    {
     "name": "stderr",
     "output_type": "stream",
     "text": [
      "Training Epochs:  61%|███████████████▎         | 61/100 [10:21<06:18,  9.71s/it]"
     ]
    },
    {
     "name": "stdout",
     "output_type": "stream",
     "text": [
      "Train Accuracy: 99.69%  Test Accuracy: 99.71%  Train Loss: 0.0112  Test Loss: 0.0079\n",
      "Epoch 62\n",
      "-------------------------------\n"
     ]
    },
    {
     "name": "stderr",
     "output_type": "stream",
     "text": [
      "Training Epochs:  62%|███████████████▌         | 62/100 [10:30<06:08,  9.69s/it]"
     ]
    },
    {
     "name": "stdout",
     "output_type": "stream",
     "text": [
      "Train Accuracy: 99.69%  Test Accuracy: 99.70%  Train Loss: 0.0098  Test Loss: 0.0079\n",
      "Epoch 63\n",
      "-------------------------------\n"
     ]
    },
    {
     "name": "stderr",
     "output_type": "stream",
     "text": [
      "Training Epochs:  63%|███████████████▊         | 63/100 [10:42<06:14, 10.13s/it]"
     ]
    },
    {
     "name": "stdout",
     "output_type": "stream",
     "text": [
      "Train Accuracy: 99.70%  Test Accuracy: 99.70%  Train Loss: 0.0102  Test Loss: 0.0079\n",
      "Epoch 64\n",
      "-------------------------------\n"
     ]
    },
    {
     "name": "stderr",
     "output_type": "stream",
     "text": [
      "Training Epochs:  64%|████████████████         | 64/100 [10:53<06:23, 10.66s/it]"
     ]
    },
    {
     "name": "stdout",
     "output_type": "stream",
     "text": [
      "Train Accuracy: 99.70%  Test Accuracy: 99.73%  Train Loss: 0.0103  Test Loss: 0.0077\n",
      "Epoch 65\n",
      "-------------------------------\n"
     ]
    },
    {
     "name": "stderr",
     "output_type": "stream",
     "text": [
      "Training Epochs:  65%|████████████████▎        | 65/100 [11:05<06:21, 10.90s/it]"
     ]
    },
    {
     "name": "stdout",
     "output_type": "stream",
     "text": [
      "Train Accuracy: 99.70%  Test Accuracy: 99.72%  Train Loss: 0.0102  Test Loss: 0.0077\n",
      "Epoch 66\n",
      "-------------------------------\n"
     ]
    },
    {
     "name": "stderr",
     "output_type": "stream",
     "text": [
      "Training Epochs:  66%|████████████████▌        | 66/100 [11:16<06:09, 10.88s/it]"
     ]
    },
    {
     "name": "stdout",
     "output_type": "stream",
     "text": [
      "Train Accuracy: 99.71%  Test Accuracy: 99.71%  Train Loss: 0.0097  Test Loss: 0.0076\n",
      "Epoch 67\n",
      "-------------------------------\n"
     ]
    },
    {
     "name": "stderr",
     "output_type": "stream",
     "text": [
      "Training Epochs:  67%|████████████████▊        | 67/100 [11:26<05:57, 10.84s/it]"
     ]
    },
    {
     "name": "stdout",
     "output_type": "stream",
     "text": [
      "Train Accuracy: 99.69%  Test Accuracy: 99.73%  Train Loss: 0.0094  Test Loss: 0.0076\n",
      "Epoch 68\n",
      "-------------------------------\n"
     ]
    },
    {
     "name": "stderr",
     "output_type": "stream",
     "text": [
      "Training Epochs:  68%|█████████████████        | 68/100 [11:35<05:29, 10.30s/it]"
     ]
    },
    {
     "name": "stdout",
     "output_type": "stream",
     "text": [
      "Train Accuracy: 99.71%  Test Accuracy: 99.74%  Train Loss: 0.0090  Test Loss: 0.0076\n",
      "Epoch 69\n",
      "-------------------------------\n"
     ]
    },
    {
     "name": "stderr",
     "output_type": "stream",
     "text": [
      "Training Epochs:  69%|█████████████████▎       | 69/100 [11:44<05:02,  9.76s/it]"
     ]
    },
    {
     "name": "stdout",
     "output_type": "stream",
     "text": [
      "Train Accuracy: 99.71%  Test Accuracy: 99.74%  Train Loss: 0.0091  Test Loss: 0.0076\n",
      "Epoch 70\n",
      "-------------------------------\n"
     ]
    },
    {
     "name": "stderr",
     "output_type": "stream",
     "text": [
      "Training Epochs:  70%|█████████████████▌       | 70/100 [11:52<04:40,  9.35s/it]"
     ]
    },
    {
     "name": "stdout",
     "output_type": "stream",
     "text": [
      "Train Accuracy: 99.72%  Test Accuracy: 99.73%  Train Loss: 0.0103  Test Loss: 0.0076\n",
      "Epoch 71\n",
      "-------------------------------\n"
     ]
    },
    {
     "name": "stderr",
     "output_type": "stream",
     "text": [
      "Training Epochs:  71%|█████████████████▊       | 71/100 [12:01<04:23,  9.09s/it]"
     ]
    },
    {
     "name": "stdout",
     "output_type": "stream",
     "text": [
      "Train Accuracy: 99.72%  Test Accuracy: 99.74%  Train Loss: 0.0090  Test Loss: 0.0076\n",
      "Epoch 72\n",
      "-------------------------------\n"
     ]
    },
    {
     "name": "stderr",
     "output_type": "stream",
     "text": [
      "Training Epochs:  72%|██████████████████       | 72/100 [12:09<04:07,  8.82s/it]"
     ]
    },
    {
     "name": "stdout",
     "output_type": "stream",
     "text": [
      "Train Accuracy: 99.71%  Test Accuracy: 99.73%  Train Loss: 0.0090  Test Loss: 0.0076\n",
      "Epoch 73\n",
      "-------------------------------\n"
     ]
    },
    {
     "name": "stderr",
     "output_type": "stream",
     "text": [
      "Training Epochs:  73%|██████████████████▎      | 73/100 [12:17<03:54,  8.69s/it]"
     ]
    },
    {
     "name": "stdout",
     "output_type": "stream",
     "text": [
      "Train Accuracy: 99.72%  Test Accuracy: 99.73%  Train Loss: 0.0093  Test Loss: 0.0076\n",
      "Epoch 74\n",
      "-------------------------------\n"
     ]
    },
    {
     "name": "stderr",
     "output_type": "stream",
     "text": [
      "Training Epochs:  74%|██████████████████▌      | 74/100 [12:26<03:42,  8.57s/it]"
     ]
    },
    {
     "name": "stdout",
     "output_type": "stream",
     "text": [
      "Train Accuracy: 99.73%  Test Accuracy: 99.73%  Train Loss: 0.0087  Test Loss: 0.0075\n",
      "Epoch 75\n",
      "-------------------------------\n"
     ]
    },
    {
     "name": "stderr",
     "output_type": "stream",
     "text": [
      "Training Epochs:  75%|██████████████████▊      | 75/100 [12:34<03:31,  8.45s/it]"
     ]
    },
    {
     "name": "stdout",
     "output_type": "stream",
     "text": [
      "Train Accuracy: 99.72%  Test Accuracy: 99.74%  Train Loss: 0.0098  Test Loss: 0.0075\n",
      "Epoch 76\n",
      "-------------------------------\n"
     ]
    },
    {
     "name": "stderr",
     "output_type": "stream",
     "text": [
      "Training Epochs:  76%|███████████████████      | 76/100 [12:42<03:21,  8.41s/it]"
     ]
    },
    {
     "name": "stdout",
     "output_type": "stream",
     "text": [
      "Train Accuracy: 99.73%  Test Accuracy: 99.74%  Train Loss: 0.0091  Test Loss: 0.0074\n",
      "Epoch 77\n",
      "-------------------------------\n"
     ]
    },
    {
     "name": "stderr",
     "output_type": "stream",
     "text": [
      "Training Epochs:  77%|███████████████████▎     | 77/100 [12:51<03:13,  8.43s/it]"
     ]
    },
    {
     "name": "stdout",
     "output_type": "stream",
     "text": [
      "Train Accuracy: 99.73%  Test Accuracy: 99.73%  Train Loss: 0.0087  Test Loss: 0.0074\n",
      "Epoch 78\n",
      "-------------------------------\n"
     ]
    },
    {
     "name": "stderr",
     "output_type": "stream",
     "text": [
      "Training Epochs:  78%|███████████████████▌     | 78/100 [13:01<03:20,  9.11s/it]"
     ]
    },
    {
     "name": "stdout",
     "output_type": "stream",
     "text": [
      "Train Accuracy: 99.72%  Test Accuracy: 99.74%  Train Loss: 0.0089  Test Loss: 0.0074\n",
      "Epoch 79\n",
      "-------------------------------\n"
     ]
    },
    {
     "name": "stderr",
     "output_type": "stream",
     "text": [
      "Training Epochs:  79%|███████████████████▊     | 79/100 [13:10<03:08,  8.97s/it]"
     ]
    },
    {
     "name": "stdout",
     "output_type": "stream",
     "text": [
      "Train Accuracy: 99.74%  Test Accuracy: 99.74%  Train Loss: 0.0082  Test Loss: 0.0074\n",
      "Epoch 80\n",
      "-------------------------------\n"
     ]
    },
    {
     "name": "stderr",
     "output_type": "stream",
     "text": [
      "Training Epochs:  80%|████████████████████     | 80/100 [13:19<02:58,  8.92s/it]"
     ]
    },
    {
     "name": "stdout",
     "output_type": "stream",
     "text": [
      "Train Accuracy: 99.73%  Test Accuracy: 99.75%  Train Loss: 0.0076  Test Loss: 0.0074\n",
      "Epoch 81\n",
      "-------------------------------\n"
     ]
    },
    {
     "name": "stderr",
     "output_type": "stream",
     "text": [
      "Training Epochs:  81%|████████████████████▎    | 81/100 [13:28<02:49,  8.90s/it]"
     ]
    },
    {
     "name": "stdout",
     "output_type": "stream",
     "text": [
      "Train Accuracy: 99.73%  Test Accuracy: 99.74%  Train Loss: 0.0088  Test Loss: 0.0074\n",
      "Epoch 82\n",
      "-------------------------------\n"
     ]
    },
    {
     "name": "stderr",
     "output_type": "stream",
     "text": [
      "Training Epochs:  82%|████████████████████▌    | 82/100 [13:36<02:39,  8.84s/it]"
     ]
    },
    {
     "name": "stdout",
     "output_type": "stream",
     "text": [
      "Train Accuracy: 99.74%  Test Accuracy: 99.73%  Train Loss: 0.0083  Test Loss: 0.0073\n",
      "Epoch 83\n",
      "-------------------------------\n"
     ]
    },
    {
     "name": "stderr",
     "output_type": "stream",
     "text": [
      "Training Epochs:  83%|████████████████████▊    | 83/100 [13:45<02:29,  8.81s/it]"
     ]
    },
    {
     "name": "stdout",
     "output_type": "stream",
     "text": [
      "Train Accuracy: 99.74%  Test Accuracy: 99.74%  Train Loss: 0.0095  Test Loss: 0.0073\n",
      "Epoch 84\n",
      "-------------------------------\n"
     ]
    },
    {
     "name": "stderr",
     "output_type": "stream",
     "text": [
      "Training Epochs:  84%|█████████████████████    | 84/100 [13:54<02:20,  8.79s/it]"
     ]
    },
    {
     "name": "stdout",
     "output_type": "stream",
     "text": [
      "Train Accuracy: 99.75%  Test Accuracy: 99.75%  Train Loss: 0.0084  Test Loss: 0.0072\n",
      "Epoch 85\n",
      "-------------------------------\n"
     ]
    },
    {
     "name": "stderr",
     "output_type": "stream",
     "text": [
      "Training Epochs:  85%|█████████████████████▎   | 85/100 [14:03<02:12,  8.80s/it]"
     ]
    },
    {
     "name": "stdout",
     "output_type": "stream",
     "text": [
      "Train Accuracy: 99.73%  Test Accuracy: 99.75%  Train Loss: 0.0085  Test Loss: 0.0072\n",
      "Epoch 86\n",
      "-------------------------------\n"
     ]
    },
    {
     "name": "stderr",
     "output_type": "stream",
     "text": [
      "Training Epochs:  86%|█████████████████████▌   | 86/100 [14:11<02:02,  8.75s/it]"
     ]
    },
    {
     "name": "stdout",
     "output_type": "stream",
     "text": [
      "Train Accuracy: 99.75%  Test Accuracy: 99.77%  Train Loss: 0.0082  Test Loss: 0.0072\n",
      "Epoch 87\n",
      "-------------------------------\n"
     ]
    },
    {
     "name": "stderr",
     "output_type": "stream",
     "text": [
      "Training Epochs:  87%|█████████████████████▊   | 87/100 [14:20<01:53,  8.76s/it]"
     ]
    },
    {
     "name": "stdout",
     "output_type": "stream",
     "text": [
      "Train Accuracy: 99.74%  Test Accuracy: 99.75%  Train Loss: 0.0081  Test Loss: 0.0072\n",
      "Epoch 88\n",
      "-------------------------------\n"
     ]
    },
    {
     "name": "stderr",
     "output_type": "stream",
     "text": [
      "Training Epochs:  88%|██████████████████████   | 88/100 [14:29<01:44,  8.73s/it]"
     ]
    },
    {
     "name": "stdout",
     "output_type": "stream",
     "text": [
      "Train Accuracy: 99.75%  Test Accuracy: 99.75%  Train Loss: 0.0083  Test Loss: 0.0072\n",
      "Epoch 89\n",
      "-------------------------------\n"
     ]
    },
    {
     "name": "stderr",
     "output_type": "stream",
     "text": [
      "Training Epochs:  89%|██████████████████████▎  | 89/100 [14:38<01:37,  8.84s/it]"
     ]
    },
    {
     "name": "stdout",
     "output_type": "stream",
     "text": [
      "Train Accuracy: 99.74%  Test Accuracy: 99.76%  Train Loss: 0.0074  Test Loss: 0.0072\n",
      "Epoch 90\n",
      "-------------------------------\n"
     ]
    },
    {
     "name": "stderr",
     "output_type": "stream",
     "text": [
      "Training Epochs:  90%|██████████████████████▌  | 90/100 [14:46<01:27,  8.74s/it]"
     ]
    },
    {
     "name": "stdout",
     "output_type": "stream",
     "text": [
      "Train Accuracy: 99.74%  Test Accuracy: 99.77%  Train Loss: 0.0084  Test Loss: 0.0072\n",
      "Epoch 91\n",
      "-------------------------------\n"
     ]
    },
    {
     "name": "stderr",
     "output_type": "stream",
     "text": [
      "Training Epochs:  91%|██████████████████████▊  | 91/100 [14:55<01:18,  8.77s/it]"
     ]
    },
    {
     "name": "stdout",
     "output_type": "stream",
     "text": [
      "Train Accuracy: 99.76%  Test Accuracy: 99.77%  Train Loss: 0.0092  Test Loss: 0.0071\n",
      "Epoch 92\n",
      "-------------------------------\n"
     ]
    },
    {
     "name": "stderr",
     "output_type": "stream",
     "text": [
      "Training Epochs:  92%|███████████████████████  | 92/100 [15:04<01:10,  8.79s/it]"
     ]
    },
    {
     "name": "stdout",
     "output_type": "stream",
     "text": [
      "Train Accuracy: 99.75%  Test Accuracy: 99.75%  Train Loss: 0.0079  Test Loss: 0.0071\n",
      "Epoch 93\n",
      "-------------------------------\n"
     ]
    },
    {
     "name": "stderr",
     "output_type": "stream",
     "text": [
      "Training Epochs:  93%|███████████████████████▎ | 93/100 [15:13<01:01,  8.77s/it]"
     ]
    },
    {
     "name": "stdout",
     "output_type": "stream",
     "text": [
      "Train Accuracy: 99.76%  Test Accuracy: 99.77%  Train Loss: 0.0080  Test Loss: 0.0069\n",
      "Epoch 94\n",
      "-------------------------------\n"
     ]
    },
    {
     "name": "stderr",
     "output_type": "stream",
     "text": [
      "Training Epochs:  94%|███████████████████████▌ | 94/100 [15:22<00:52,  8.76s/it]"
     ]
    },
    {
     "name": "stdout",
     "output_type": "stream",
     "text": [
      "Train Accuracy: 99.77%  Test Accuracy: 99.77%  Train Loss: 0.0086  Test Loss: 0.0070\n",
      "Epoch 95\n",
      "-------------------------------\n"
     ]
    },
    {
     "name": "stderr",
     "output_type": "stream",
     "text": [
      "Training Epochs:  95%|███████████████████████▊ | 95/100 [15:30<00:43,  8.64s/it]"
     ]
    },
    {
     "name": "stdout",
     "output_type": "stream",
     "text": [
      "Train Accuracy: 99.76%  Test Accuracy: 99.77%  Train Loss: 0.0080  Test Loss: 0.0070\n",
      "Epoch 96\n",
      "-------------------------------\n"
     ]
    },
    {
     "name": "stderr",
     "output_type": "stream",
     "text": [
      "Training Epochs:  96%|████████████████████████ | 96/100 [15:39<00:34,  8.67s/it]"
     ]
    },
    {
     "name": "stdout",
     "output_type": "stream",
     "text": [
      "Train Accuracy: 99.76%  Test Accuracy: 99.76%  Train Loss: 0.0080  Test Loss: 0.0070\n",
      "Epoch 97\n",
      "-------------------------------\n"
     ]
    },
    {
     "name": "stderr",
     "output_type": "stream",
     "text": [
      "Training Epochs:  97%|████████████████████████▎| 97/100 [15:47<00:25,  8.63s/it]"
     ]
    },
    {
     "name": "stdout",
     "output_type": "stream",
     "text": [
      "Train Accuracy: 99.76%  Test Accuracy: 99.77%  Train Loss: 0.0083  Test Loss: 0.0070\n",
      "Epoch 98\n",
      "-------------------------------\n"
     ]
    },
    {
     "name": "stderr",
     "output_type": "stream",
     "text": [
      "Training Epochs:  98%|████████████████████████▌| 98/100 [15:58<00:18,  9.19s/it]"
     ]
    },
    {
     "name": "stdout",
     "output_type": "stream",
     "text": [
      "Train Accuracy: 99.76%  Test Accuracy: 99.78%  Train Loss: 0.0079  Test Loss: 0.0069\n",
      "Epoch 99\n",
      "-------------------------------\n"
     ]
    },
    {
     "name": "stderr",
     "output_type": "stream",
     "text": [
      "Training Epochs:  99%|████████████████████████▊| 99/100 [16:07<00:09,  9.20s/it]"
     ]
    },
    {
     "name": "stdout",
     "output_type": "stream",
     "text": [
      "Train Accuracy: 99.75%  Test Accuracy: 99.78%  Train Loss: 0.0083  Test Loss: 0.0070\n",
      "Epoch 100\n",
      "-------------------------------\n"
     ]
    },
    {
     "name": "stderr",
     "output_type": "stream",
     "text": [
      "Training Epochs: 100%|████████████████████████| 100/100 [16:17<00:00,  9.77s/it]"
     ]
    },
    {
     "name": "stdout",
     "output_type": "stream",
     "text": [
      "Train Accuracy: 99.75%  Test Accuracy: 99.77%  Train Loss: 0.0075  Test Loss: 0.0070\n"
     ]
    },
    {
     "name": "stderr",
     "output_type": "stream",
     "text": [
      "\n"
     ]
    },
    {
     "data": {
      "image/png": "[encoded data removed]",
      "text/plain": [
       "<Figure size 1000x600 with 1 Axes>"
      ]
     },
     "metadata": {},
     "output_type": "display_data"
    },
    {
     "data": {
      "image/png": "[encoded data removed]",
      "text/plain": [
       "<Figure size 1000x600 with 1 Axes>"
      ]
     },
     "metadata": {},
     "output_type": "display_data"
    }
   ],
   "source": [
    "#prepare the data\n",
    "path = 'generated_dataset.csv'\n",
    "train_dl, test_dl = prepare_data(path)\n",
    "print(len(train_dl.dataset), len(test_dl.dataset))\n",
    "# define the network\n",
    "model = MLP(52)\n",
    "# train the model\n",
    "train_model(train_dl,test_dl, model)\n"
   ]
  },
  {
   "cell_type": "code",
   "execution_count": 123,
   "id": "4718c8a9-7cc9-474f-8a32-16510df81af8",
   "metadata": {},
   "outputs": [],
   "source": [
    "import torch\n",
    "\n",
    "from torch.jit import script\n",
    "# Save the trained model\n",
    "def save_model(model, path):\n",
    "    scripted_model = script(model)  # Convertir le modèle en un modèle scripté\n",
    "    scripted_model.save(path)  # Sauvegarder le modèle scripté\n",
    "\n",
    "save_model(model, 'trained_model.pt')\n"
   ]
  },
  {
   "cell_type": "code",
   "execution_count": 121,
   "id": "491b8138-72d6-48ed-8a7c-d81c276eb28b",
   "metadata": {},
   "outputs": [],
   "source": [
    "import tensorflow as tf\n",
    "from tensorflow.keras.models import Sequential\n",
    "from tensorflow.keras.layers import Dense, LSTM, Dropout\n",
    "from tensorflow.keras.optimizers import SGD\n",
    "from tensorflow.keras.losses import BinaryCrossentropy\n",
    "from tensorflow.keras.callbacks import EarlyStopping\n"
   ]
  },
  {
   "cell_type": "code",
   "execution_count": 58,
   "id": "99d968a4-23d9-4ecc-800d-79787c5ff11f",
   "metadata": {},
   "outputs": [
    {
     "name": "stderr",
     "output_type": "stream",
     "text": [
      "/Users/mac/Library/Python/3.9/lib/python/site-packages/keras/src/layers/rnn/rnn.py:204: UserWarning: Do not pass an `input_shape`/`input_dim` argument to a layer. When using Sequential models, prefer using an `Input(shape)` object as the first layer in the model instead.\n",
      "  super().__init__(**kwargs)\n"
     ]
    },
    {
     "name": "stdout",
     "output_type": "stream",
     "text": [
      "Epoch 1/100\n",
      "\u001b[1m597/597\u001b[0m \u001b[32m━━━━━━━━━━━━━━━━━━━━\u001b[0m\u001b[37m\u001b[0m \u001b[1m8s\u001b[0m 9ms/step - accuracy: 0.9371 - loss: 0.1794 - val_accuracy: 0.9971 - val_loss: 0.0093\n",
      "Epoch 2/100\n",
      "\u001b[1m597/597\u001b[0m \u001b[32m━━━━━━━━━━━━━━━━━━━━\u001b[0m\u001b[37m\u001b[0m \u001b[1m5s\u001b[0m 8ms/step - accuracy: 0.9965 - loss: 0.0149 - val_accuracy: 0.9978 - val_loss: 0.0066\n",
      "Epoch 3/100\n",
      "\u001b[1m597/597\u001b[0m \u001b[32m━━━━━━━━━━━━━━━━━━━━\u001b[0m\u001b[37m\u001b[0m \u001b[1m5s\u001b[0m 9ms/step - accuracy: 0.9973 - loss: 0.0097 - val_accuracy: 0.9984 - val_loss: 0.0053\n",
      "Epoch 4/100\n",
      "\u001b[1m597/597\u001b[0m \u001b[32m━━━━━━━━━━━━━━━━━━━━\u001b[0m\u001b[37m\u001b[0m \u001b[1m5s\u001b[0m 8ms/step - accuracy: 0.9978 - loss: 0.0077 - val_accuracy: 0.9982 - val_loss: 0.0057\n",
      "Epoch 5/100\n",
      "\u001b[1m597/597\u001b[0m \u001b[32m━━━━━━━━━━━━━━━━━━━━\u001b[0m\u001b[37m\u001b[0m \u001b[1m5s\u001b[0m 9ms/step - accuracy: 0.9980 - loss: 0.0075 - val_accuracy: 0.9986 - val_loss: 0.0052\n",
      "Epoch 6/100\n",
      "\u001b[1m597/597\u001b[0m \u001b[32m━━━━━━━━━━━━━━━━━━━━\u001b[0m\u001b[37m\u001b[0m \u001b[1m5s\u001b[0m 9ms/step - accuracy: 0.9982 - loss: 0.0062 - val_accuracy: 0.9986 - val_loss: 0.0048\n",
      "Epoch 7/100\n",
      "\u001b[1m597/597\u001b[0m \u001b[32m━━━━━━━━━━━━━━━━━━━━\u001b[0m\u001b[37m\u001b[0m \u001b[1m6s\u001b[0m 9ms/step - accuracy: 0.9984 - loss: 0.0049 - val_accuracy: 0.9986 - val_loss: 0.0044\n",
      "Epoch 8/100\n",
      "\u001b[1m597/597\u001b[0m \u001b[32m━━━━━━━━━━━━━━━━━━━━\u001b[0m\u001b[37m\u001b[0m \u001b[1m6s\u001b[0m 10ms/step - accuracy: 0.9983 - loss: 0.0055 - val_accuracy: 0.9985 - val_loss: 0.0047\n",
      "Epoch 9/100\n",
      "\u001b[1m597/597\u001b[0m \u001b[32m━━━━━━━━━━━━━━━━━━━━\u001b[0m\u001b[37m\u001b[0m \u001b[1m6s\u001b[0m 9ms/step - accuracy: 0.9983 - loss: 0.0072 - val_accuracy: 0.9987 - val_loss: 0.0045\n",
      "Epoch 10/100\n",
      "\u001b[1m597/597\u001b[0m \u001b[32m━━━━━━━━━━━━━━━━━━━━\u001b[0m\u001b[37m\u001b[0m \u001b[1m5s\u001b[0m 9ms/step - accuracy: 0.9984 - loss: 0.0050 - val_accuracy: 0.9987 - val_loss: 0.0052\n",
      "Epoch 11/100\n",
      "\u001b[1m597/597\u001b[0m \u001b[32m━━━━━━━━━━━━━━━━━━━━\u001b[0m\u001b[37m\u001b[0m \u001b[1m7s\u001b[0m 11ms/step - accuracy: 0.9985 - loss: 0.0049 - val_accuracy: 0.9987 - val_loss: 0.0053\n",
      "Epoch 12/100\n",
      "\u001b[1m597/597\u001b[0m \u001b[32m━━━━━━━━━━━━━━━━━━━━\u001b[0m\u001b[37m\u001b[0m \u001b[1m7s\u001b[0m 12ms/step - accuracy: 0.9984 - loss: 0.0049 - val_accuracy: 0.9986 - val_loss: 0.0058\n",
      "Epoch 13/100\n",
      "\u001b[1m597/597\u001b[0m \u001b[32m━━━━━━━━━━━━━━━━━━━━\u001b[0m\u001b[37m\u001b[0m \u001b[1m6s\u001b[0m 11ms/step - accuracy: 0.9985 - loss: 0.0051 - val_accuracy: 0.9985 - val_loss: 0.0056\n",
      "Epoch 14/100\n",
      "\u001b[1m597/597\u001b[0m \u001b[32m━━━━━━━━━━━━━━━━━━━━\u001b[0m\u001b[37m\u001b[0m \u001b[1m5s\u001b[0m 9ms/step - accuracy: 0.9986 - loss: 0.0043 - val_accuracy: 0.9988 - val_loss: 0.0044\n",
      "Epoch 15/100\n",
      "\u001b[1m597/597\u001b[0m \u001b[32m━━━━━━━━━━━━━━━━━━━━\u001b[0m\u001b[37m\u001b[0m \u001b[1m5s\u001b[0m 9ms/step - accuracy: 0.9985 - loss: 0.0046 - val_accuracy: 0.9988 - val_loss: 0.0054\n",
      "Epoch 16/100\n",
      "\u001b[1m597/597\u001b[0m \u001b[32m━━━━━━━━━━━━━━━━━━━━\u001b[0m\u001b[37m\u001b[0m \u001b[1m6s\u001b[0m 10ms/step - accuracy: 0.9985 - loss: 0.0045 - val_accuracy: 0.9987 - val_loss: 0.0049\n",
      "Epoch 17/100\n",
      "\u001b[1m597/597\u001b[0m \u001b[32m━━━━━━━━━━━━━━━━━━━━\u001b[0m\u001b[37m\u001b[0m \u001b[1m6s\u001b[0m 9ms/step - accuracy: 0.9985 - loss: 0.0042 - val_accuracy: 0.9987 - val_loss: 0.0051\n",
      "Epoch 18/100\n",
      "\u001b[1m597/597\u001b[0m \u001b[32m━━━━━━━━━━━━━━━━━━━━\u001b[0m\u001b[37m\u001b[0m \u001b[1m6s\u001b[0m 10ms/step - accuracy: 0.9985 - loss: 0.0041 - val_accuracy: 0.9986 - val_loss: 0.0061\n",
      "Epoch 19/100\n",
      "\u001b[1m597/597\u001b[0m \u001b[32m━━━━━━━━━━━━━━━━━━━━\u001b[0m\u001b[37m\u001b[0m \u001b[1m6s\u001b[0m 9ms/step - accuracy: 0.9986 - loss: 0.0042 - val_accuracy: 0.9988 - val_loss: 0.0057\n",
      "Epoch 20/100\n",
      "\u001b[1m597/597\u001b[0m \u001b[32m━━━━━━━━━━━━━━━━━━━━\u001b[0m\u001b[37m\u001b[0m \u001b[1m5s\u001b[0m 9ms/step - accuracy: 0.9987 - loss: 0.0039 - val_accuracy: 0.9987 - val_loss: 0.0057\n",
      "Epoch 21/100\n",
      "\u001b[1m597/597\u001b[0m \u001b[32m━━━━━━━━━━━━━━━━━━━━\u001b[0m\u001b[37m\u001b[0m \u001b[1m5s\u001b[0m 8ms/step - accuracy: 0.9986 - loss: 0.0038 - val_accuracy: 0.9988 - val_loss: 0.0071\n",
      "Epoch 22/100\n",
      "\u001b[1m597/597\u001b[0m \u001b[32m━━━━━━━━━━━━━━━━━━━━\u001b[0m\u001b[37m\u001b[0m \u001b[1m5s\u001b[0m 9ms/step - accuracy: 0.9986 - loss: 0.0037 - val_accuracy: 0.9988 - val_loss: 0.0063\n",
      "Epoch 23/100\n",
      "\u001b[1m597/597\u001b[0m \u001b[32m━━━━━━━━━━━━━━━━━━━━\u001b[0m\u001b[37m\u001b[0m \u001b[1m5s\u001b[0m 9ms/step - accuracy: 0.9987 - loss: 0.0040 - val_accuracy: 0.9988 - val_loss: 0.0076\n",
      "Epoch 24/100\n",
      "\u001b[1m597/597\u001b[0m \u001b[32m━━━━━━━━━━━━━━━━━━━━\u001b[0m\u001b[37m\u001b[0m \u001b[1m5s\u001b[0m 9ms/step - accuracy: 0.9988 - loss: 0.0038 - val_accuracy: 0.9989 - val_loss: 0.0077\n",
      "Epoch 25/100\n",
      "\u001b[1m597/597\u001b[0m \u001b[32m━━━━━━━━━━━━━━━━━━━━\u001b[0m\u001b[37m\u001b[0m \u001b[1m5s\u001b[0m 9ms/step - accuracy: 0.9987 - loss: 0.0036 - val_accuracy: 0.9988 - val_loss: 0.0062\n",
      "Epoch 26/100\n",
      "\u001b[1m597/597\u001b[0m \u001b[32m━━━━━━━━━━━━━━━━━━━━\u001b[0m\u001b[37m\u001b[0m \u001b[1m6s\u001b[0m 9ms/step - accuracy: 0.9988 - loss: 0.0034 - val_accuracy: 0.9987 - val_loss: 0.0072\n",
      "Epoch 27/100\n",
      "\u001b[1m597/597\u001b[0m \u001b[32m━━━━━━━━━━━━━━━━━━━━\u001b[0m\u001b[37m\u001b[0m \u001b[1m5s\u001b[0m 8ms/step - accuracy: 0.9987 - loss: 0.0035 - val_accuracy: 0.9987 - val_loss: 0.0078\n",
      "Epoch 28/100\n",
      "\u001b[1m597/597\u001b[0m \u001b[32m━━━━━━━━━━━━━━━━━━━━\u001b[0m\u001b[37m\u001b[0m \u001b[1m5s\u001b[0m 8ms/step - accuracy: 0.9986 - loss: 0.0036 - val_accuracy: 0.9988 - val_loss: 0.0065\n",
      "Epoch 29/100\n",
      "\u001b[1m597/597\u001b[0m \u001b[32m━━━━━━━━━━━━━━━━━━━━\u001b[0m\u001b[37m\u001b[0m \u001b[1m5s\u001b[0m 8ms/step - accuracy: 0.9988 - loss: 0.0034 - val_accuracy: 0.9989 - val_loss: 0.0080\n",
      "Epoch 30/100\n",
      "\u001b[1m597/597\u001b[0m \u001b[32m━━━━━━━━━━━━━━━━━━━━\u001b[0m\u001b[37m\u001b[0m \u001b[1m5s\u001b[0m 9ms/step - accuracy: 0.9987 - loss: 0.0036 - val_accuracy: 0.9988 - val_loss: 0.0086\n",
      "Epoch 31/100\n",
      "\u001b[1m597/597\u001b[0m \u001b[32m━━━━━━━━━━━━━━━━━━━━\u001b[0m\u001b[37m\u001b[0m \u001b[1m5s\u001b[0m 8ms/step - accuracy: 0.9988 - loss: 0.0041 - val_accuracy: 0.9988 - val_loss: 0.0079\n",
      "Epoch 32/100\n",
      "\u001b[1m597/597\u001b[0m \u001b[32m━━━━━━━━━━━━━━━━━━━━\u001b[0m\u001b[37m\u001b[0m \u001b[1m5s\u001b[0m 8ms/step - accuracy: 0.9988 - loss: 0.0034 - val_accuracy: 0.9988 - val_loss: 0.0090\n",
      "Epoch 33/100\n",
      "\u001b[1m597/597\u001b[0m \u001b[32m━━━━━━━━━━━━━━━━━━━━\u001b[0m\u001b[37m\u001b[0m \u001b[1m5s\u001b[0m 8ms/step - accuracy: 0.9988 - loss: 0.0033 - val_accuracy: 0.9989 - val_loss: 0.0093\n",
      "Epoch 34/100\n",
      "\u001b[1m597/597\u001b[0m \u001b[32m━━━━━━━━━━━━━━━━━━━━\u001b[0m\u001b[37m\u001b[0m \u001b[1m5s\u001b[0m 8ms/step - accuracy: 0.9989 - loss: 0.0032 - val_accuracy: 0.9989 - val_loss: 0.0101\n",
      "Epoch 35/100\n",
      "\u001b[1m597/597\u001b[0m \u001b[32m━━━━━━━━━━━━━━━━━━━━\u001b[0m\u001b[37m\u001b[0m \u001b[1m5s\u001b[0m 8ms/step - accuracy: 0.9988 - loss: 0.0033 - val_accuracy: 0.9989 - val_loss: 0.0096\n",
      "Epoch 36/100\n",
      "\u001b[1m597/597\u001b[0m \u001b[32m━━━━━━━━━━━━━━━━━━━━\u001b[0m\u001b[37m\u001b[0m \u001b[1m5s\u001b[0m 8ms/step - accuracy: 0.9988 - loss: 0.0030 - val_accuracy: 0.9989 - val_loss: 0.0083\n",
      "Epoch 37/100\n",
      "\u001b[1m597/597\u001b[0m \u001b[32m━━━━━━━━━━━━━━━━━━━━\u001b[0m\u001b[37m\u001b[0m \u001b[1m5s\u001b[0m 8ms/step - accuracy: 0.9989 - loss: 0.0029 - val_accuracy: 0.9989 - val_loss: 0.0085\n",
      "Epoch 38/100\n",
      "\u001b[1m597/597\u001b[0m \u001b[32m━━━━━━━━━━━━━━━━━━━━\u001b[0m\u001b[37m\u001b[0m \u001b[1m5s\u001b[0m 8ms/step - accuracy: 0.9988 - loss: 0.0052 - val_accuracy: 0.9989 - val_loss: 0.0111\n",
      "Epoch 39/100\n",
      "\u001b[1m597/597\u001b[0m \u001b[32m━━━━━━━━━━━━━━━━━━━━\u001b[0m\u001b[37m\u001b[0m \u001b[1m5s\u001b[0m 8ms/step - accuracy: 0.9988 - loss: 0.0033 - val_accuracy: 0.9989 - val_loss: 0.0120\n",
      "Epoch 40/100\n",
      "\u001b[1m597/597\u001b[0m \u001b[32m━━━━━━━━━━━━━━━━━━━━\u001b[0m\u001b[37m\u001b[0m \u001b[1m5s\u001b[0m 8ms/step - accuracy: 0.9988 - loss: 0.0032 - val_accuracy: 0.9989 - val_loss: 0.0125\n",
      "Epoch 41/100\n",
      "\u001b[1m597/597\u001b[0m \u001b[32m━━━━━━━━━━━━━━━━━━━━\u001b[0m\u001b[37m\u001b[0m \u001b[1m5s\u001b[0m 8ms/step - accuracy: 0.9988 - loss: 0.0031 - val_accuracy: 0.9989 - val_loss: 0.0134\n",
      "Epoch 42/100\n",
      "\u001b[1m597/597\u001b[0m \u001b[32m━━━━━━━━━━━━━━━━━━━━\u001b[0m\u001b[37m\u001b[0m \u001b[1m5s\u001b[0m 8ms/step - accuracy: 0.9988 - loss: 0.0036 - val_accuracy: 0.9989 - val_loss: 0.0094\n",
      "Epoch 43/100\n",
      "\u001b[1m597/597\u001b[0m \u001b[32m━━━━━━━━━━━━━━━━━━━━\u001b[0m\u001b[37m\u001b[0m \u001b[1m5s\u001b[0m 8ms/step - accuracy: 0.9988 - loss: 0.0030 - val_accuracy: 0.9990 - val_loss: 0.0091\n",
      "Epoch 44/100\n",
      "\u001b[1m597/597\u001b[0m \u001b[32m━━━━━━━━━━━━━━━━━━━━\u001b[0m\u001b[37m\u001b[0m \u001b[1m5s\u001b[0m 8ms/step - accuracy: 0.9989 - loss: 0.0032 - val_accuracy: 0.9988 - val_loss: 0.0092\n",
      "Epoch 45/100\n",
      "\u001b[1m597/597\u001b[0m \u001b[32m━━━━━━━━━━━━━━━━━━━━\u001b[0m\u001b[37m\u001b[0m \u001b[1m5s\u001b[0m 9ms/step - accuracy: 0.9989 - loss: 0.0031 - val_accuracy: 0.9989 - val_loss: 0.0115\n",
      "Epoch 46/100\n",
      "\u001b[1m597/597\u001b[0m \u001b[32m━━━━━━━━━━━━━━━━━━━━\u001b[0m\u001b[37m\u001b[0m \u001b[1m5s\u001b[0m 8ms/step - accuracy: 0.9988 - loss: 0.0029 - val_accuracy: 0.9989 - val_loss: 0.0110\n",
      "Epoch 47/100\n",
      "\u001b[1m597/597\u001b[0m \u001b[32m━━━━━━━━━━━━━━━━━━━━\u001b[0m\u001b[37m\u001b[0m \u001b[1m5s\u001b[0m 8ms/step - accuracy: 0.9989 - loss: 0.0031 - val_accuracy: 0.9990 - val_loss: 0.0097\n",
      "Epoch 48/100\n",
      "\u001b[1m597/597\u001b[0m \u001b[32m━━━━━━━━━━━━━━━━━━━━\u001b[0m\u001b[37m\u001b[0m \u001b[1m5s\u001b[0m 9ms/step - accuracy: 0.9988 - loss: 0.0031 - val_accuracy: 0.9989 - val_loss: 0.0105\n",
      "Epoch 49/100\n",
      "\u001b[1m597/597\u001b[0m \u001b[32m━━━━━━━━━━━━━━━━━━━━\u001b[0m\u001b[37m\u001b[0m \u001b[1m5s\u001b[0m 8ms/step - accuracy: 0.9988 - loss: 0.0031 - val_accuracy: 0.9990 - val_loss: 0.0134\n",
      "Epoch 50/100\n",
      "\u001b[1m597/597\u001b[0m \u001b[32m━━━━━━━━━━━━━━━━━━━━\u001b[0m\u001b[37m\u001b[0m \u001b[1m5s\u001b[0m 9ms/step - accuracy: 0.9989 - loss: 0.0032 - val_accuracy: 0.9989 - val_loss: 0.0119\n",
      "Epoch 51/100\n",
      "\u001b[1m597/597\u001b[0m \u001b[32m━━━━━━━━━━━━━━━━━━━━\u001b[0m\u001b[37m\u001b[0m \u001b[1m5s\u001b[0m 8ms/step - accuracy: 0.9989 - loss: 0.0051 - val_accuracy: 0.9990 - val_loss: 0.0095\n",
      "Epoch 52/100\n",
      "\u001b[1m597/597\u001b[0m \u001b[32m━━━━━━━━━━━━━━━━━━━━\u001b[0m\u001b[37m\u001b[0m \u001b[1m5s\u001b[0m 9ms/step - accuracy: 0.9987 - loss: 0.0033 - val_accuracy: 0.9990 - val_loss: 0.0114\n",
      "Epoch 53/100\n",
      "\u001b[1m597/597\u001b[0m \u001b[32m━━━━━━━━━━━━━━━━━━━━\u001b[0m\u001b[37m\u001b[0m \u001b[1m5s\u001b[0m 9ms/step - accuracy: 0.9989 - loss: 0.0030 - val_accuracy: 0.9990 - val_loss: 0.0107\n",
      "Epoch 54/100\n",
      "\u001b[1m597/597\u001b[0m \u001b[32m━━━━━━━━━━━━━━━━━━━━\u001b[0m\u001b[37m\u001b[0m \u001b[1m5s\u001b[0m 9ms/step - accuracy: 0.9990 - loss: 0.0027 - val_accuracy: 0.9989 - val_loss: 0.0120\n",
      "Epoch 55/100\n",
      "\u001b[1m597/597\u001b[0m \u001b[32m━━━━━━━━━━━━━━━━━━━━\u001b[0m\u001b[37m\u001b[0m \u001b[1m5s\u001b[0m 8ms/step - accuracy: 0.9990 - loss: 0.0033 - val_accuracy: 0.9989 - val_loss: 0.0099\n",
      "Epoch 56/100\n",
      "\u001b[1m597/597\u001b[0m \u001b[32m━━━━━━━━━━━━━━━━━━━━\u001b[0m\u001b[37m\u001b[0m \u001b[1m5s\u001b[0m 9ms/step - accuracy: 0.9989 - loss: 0.0030 - val_accuracy: 0.9990 - val_loss: 0.0102\n",
      "Epoch 57/100\n",
      "\u001b[1m597/597\u001b[0m \u001b[32m━━━━━━━━━━━━━━━━━━━━\u001b[0m\u001b[37m\u001b[0m \u001b[1m5s\u001b[0m 9ms/step - accuracy: 0.9990 - loss: 0.0034 - val_accuracy: 0.9989 - val_loss: 0.0093\n",
      "Epoch 58/100\n",
      "\u001b[1m597/597\u001b[0m \u001b[32m━━━━━━━━━━━━━━━━━━━━\u001b[0m\u001b[37m\u001b[0m \u001b[1m5s\u001b[0m 9ms/step - accuracy: 0.9990 - loss: 0.0028 - val_accuracy: 0.9990 - val_loss: 0.0090\n",
      "Epoch 59/100\n",
      "\u001b[1m597/597\u001b[0m \u001b[32m━━━━━━━━━━━━━━━━━━━━\u001b[0m\u001b[37m\u001b[0m \u001b[1m5s\u001b[0m 9ms/step - accuracy: 0.9988 - loss: 0.0032 - val_accuracy: 0.9990 - val_loss: 0.0098\n",
      "Epoch 60/100\n",
      "\u001b[1m597/597\u001b[0m \u001b[32m━━━━━━━━━━━━━━━━━━━━\u001b[0m\u001b[37m\u001b[0m \u001b[1m6s\u001b[0m 10ms/step - accuracy: 0.9990 - loss: 0.0039 - val_accuracy: 0.9990 - val_loss: 0.0102\n",
      "Epoch 61/100\n",
      "\u001b[1m597/597\u001b[0m \u001b[32m━━━━━━━━━━━━━━━━━━━━\u001b[0m\u001b[37m\u001b[0m \u001b[1m5s\u001b[0m 9ms/step - accuracy: 0.9989 - loss: 0.0030 - val_accuracy: 0.9990 - val_loss: 0.0116\n",
      "Epoch 62/100\n",
      "\u001b[1m597/597\u001b[0m \u001b[32m━━━━━━━━━━━━━━━━━━━━\u001b[0m\u001b[37m\u001b[0m \u001b[1m5s\u001b[0m 9ms/step - accuracy: 0.9990 - loss: 0.0027 - val_accuracy: 0.9990 - val_loss: 0.0109\n",
      "Epoch 63/100\n",
      "\u001b[1m597/597\u001b[0m \u001b[32m━━━━━━━━━━━━━━━━━━━━\u001b[0m\u001b[37m\u001b[0m \u001b[1m5s\u001b[0m 9ms/step - accuracy: 0.9989 - loss: 0.0031 - val_accuracy: 0.9990 - val_loss: 0.0122\n",
      "Epoch 64/100\n",
      "\u001b[1m597/597\u001b[0m \u001b[32m━━━━━━━━━━━━━━━━━━━━\u001b[0m\u001b[37m\u001b[0m \u001b[1m5s\u001b[0m 9ms/step - accuracy: 0.9990 - loss: 0.0028 - val_accuracy: 0.9990 - val_loss: 0.0133\n",
      "Epoch 65/100\n",
      "\u001b[1m597/597\u001b[0m \u001b[32m━━━━━━━━━━━━━━━━━━━━\u001b[0m\u001b[37m\u001b[0m \u001b[1m5s\u001b[0m 9ms/step - accuracy: 0.9990 - loss: 0.0027 - val_accuracy: 0.9990 - val_loss: 0.0135\n",
      "Epoch 66/100\n",
      "\u001b[1m597/597\u001b[0m \u001b[32m━━━━━━━━━━━━━━━━━━━━\u001b[0m\u001b[37m\u001b[0m \u001b[1m5s\u001b[0m 9ms/step - accuracy: 0.9991 - loss: 0.0026 - val_accuracy: 0.9990 - val_loss: 0.0094\n",
      "Epoch 67/100\n",
      "\u001b[1m597/597\u001b[0m \u001b[32m━━━━━━━━━━━━━━━━━━━━\u001b[0m\u001b[37m\u001b[0m \u001b[1m5s\u001b[0m 9ms/step - accuracy: 0.9990 - loss: 0.0032 - val_accuracy: 0.9989 - val_loss: 0.0092\n",
      "Epoch 68/100\n",
      "\u001b[1m597/597\u001b[0m \u001b[32m━━━━━━━━━━━━━━━━━━━━\u001b[0m\u001b[37m\u001b[0m \u001b[1m5s\u001b[0m 9ms/step - accuracy: 0.9989 - loss: 0.0028 - val_accuracy: 0.9990 - val_loss: 0.0106\n",
      "Epoch 69/100\n",
      "\u001b[1m597/597\u001b[0m \u001b[32m━━━━━━━━━━━━━━━━━━━━\u001b[0m\u001b[37m\u001b[0m \u001b[1m5s\u001b[0m 9ms/step - accuracy: 0.9990 - loss: 0.0026 - val_accuracy: 0.9990 - val_loss: 0.0107\n",
      "Epoch 70/100\n",
      "\u001b[1m597/597\u001b[0m \u001b[32m━━━━━━━━━━━━━━━━━━━━\u001b[0m\u001b[37m\u001b[0m \u001b[1m5s\u001b[0m 8ms/step - accuracy: 0.9991 - loss: 0.0025 - val_accuracy: 0.9990 - val_loss: 0.0086\n",
      "Epoch 71/100\n",
      "\u001b[1m597/597\u001b[0m \u001b[32m━━━━━━━━━━━━━━━━━━━━\u001b[0m\u001b[37m\u001b[0m \u001b[1m5s\u001b[0m 9ms/step - accuracy: 0.9988 - loss: 0.0036 - val_accuracy: 0.9990 - val_loss: 0.0111\n",
      "Epoch 72/100\n",
      "\u001b[1m597/597\u001b[0m \u001b[32m━━━━━━━━━━━━━━━━━━━━\u001b[0m\u001b[37m\u001b[0m \u001b[1m5s\u001b[0m 9ms/step - accuracy: 0.9989 - loss: 0.0027 - val_accuracy: 0.9990 - val_loss: 0.0116\n",
      "Epoch 73/100\n",
      "\u001b[1m597/597\u001b[0m \u001b[32m━━━━━━━━━━━━━━━━━━━━\u001b[0m\u001b[37m\u001b[0m \u001b[1m5s\u001b[0m 9ms/step - accuracy: 0.9990 - loss: 0.0027 - val_accuracy: 0.9989 - val_loss: 0.0109\n",
      "Epoch 74/100\n",
      "\u001b[1m597/597\u001b[0m \u001b[32m━━━━━━━━━━━━━━━━━━━━\u001b[0m\u001b[37m\u001b[0m \u001b[1m5s\u001b[0m 9ms/step - accuracy: 0.9991 - loss: 0.0026 - val_accuracy: 0.9989 - val_loss: 0.0119\n",
      "Epoch 75/100\n",
      "\u001b[1m597/597\u001b[0m \u001b[32m━━━━━━━━━━━━━━━━━━━━\u001b[0m\u001b[37m\u001b[0m \u001b[1m5s\u001b[0m 9ms/step - accuracy: 0.9990 - loss: 0.0028 - val_accuracy: 0.9989 - val_loss: 0.0109\n",
      "Epoch 76/100\n",
      "\u001b[1m597/597\u001b[0m \u001b[32m━━━━━━━━━━━━━━━━━━━━\u001b[0m\u001b[37m\u001b[0m \u001b[1m5s\u001b[0m 9ms/step - accuracy: 0.9990 - loss: 0.0029 - val_accuracy: 0.9990 - val_loss: 0.0116\n",
      "Epoch 77/100\n",
      "\u001b[1m597/597\u001b[0m \u001b[32m━━━━━━━━━━━━━━━━━━━━\u001b[0m\u001b[37m\u001b[0m \u001b[1m5s\u001b[0m 9ms/step - accuracy: 0.9990 - loss: 0.0026 - val_accuracy: 0.9990 - val_loss: 0.0113\n",
      "Epoch 78/100\n",
      "\u001b[1m597/597\u001b[0m \u001b[32m━━━━━━━━━━━━━━━━━━━━\u001b[0m\u001b[37m\u001b[0m \u001b[1m5s\u001b[0m 9ms/step - accuracy: 0.9991 - loss: 0.0026 - val_accuracy: 0.9990 - val_loss: 0.0123\n",
      "Epoch 79/100\n",
      "\u001b[1m597/597\u001b[0m \u001b[32m━━━━━━━━━━━━━━━━━━━━\u001b[0m\u001b[37m\u001b[0m \u001b[1m5s\u001b[0m 9ms/step - accuracy: 0.9989 - loss: 0.0042 - val_accuracy: 0.9990 - val_loss: 0.0102\n",
      "Epoch 80/100\n",
      "\u001b[1m597/597\u001b[0m \u001b[32m━━━━━━━━━━━━━━━━━━━━\u001b[0m\u001b[37m\u001b[0m \u001b[1m5s\u001b[0m 9ms/step - accuracy: 0.9991 - loss: 0.0023 - val_accuracy: 0.9991 - val_loss: 0.0104\n",
      "Epoch 81/100\n",
      "\u001b[1m597/597\u001b[0m \u001b[32m━━━━━━━━━━━━━━━━━━━━\u001b[0m\u001b[37m\u001b[0m \u001b[1m6s\u001b[0m 10ms/step - accuracy: 0.9989 - loss: 0.0032 - val_accuracy: 0.9990 - val_loss: 0.0099\n",
      "Epoch 82/100\n",
      "\u001b[1m597/597\u001b[0m \u001b[32m━━━━━━━━━━━━━━━━━━━━\u001b[0m\u001b[37m\u001b[0m \u001b[1m5s\u001b[0m 9ms/step - accuracy: 0.9992 - loss: 0.0023 - val_accuracy: 0.9990 - val_loss: 0.0128\n",
      "Epoch 83/100\n",
      "\u001b[1m597/597\u001b[0m \u001b[32m━━━━━━━━━━━━━━━━━━━━\u001b[0m\u001b[37m\u001b[0m \u001b[1m5s\u001b[0m 9ms/step - accuracy: 0.9990 - loss: 0.0027 - val_accuracy: 0.9990 - val_loss: 0.0127\n",
      "Epoch 84/100\n",
      "\u001b[1m597/597\u001b[0m \u001b[32m━━━━━━━━━━━━━━━━━━━━\u001b[0m\u001b[37m\u001b[0m \u001b[1m5s\u001b[0m 9ms/step - accuracy: 0.9988 - loss: 0.0028 - val_accuracy: 0.9990 - val_loss: 0.0116\n",
      "Epoch 85/100\n",
      "\u001b[1m597/597\u001b[0m \u001b[32m━━━━━━━━━━━━━━━━━━━━\u001b[0m\u001b[37m\u001b[0m \u001b[1m5s\u001b[0m 9ms/step - accuracy: 0.9990 - loss: 0.0026 - val_accuracy: 0.9990 - val_loss: 0.0124\n",
      "Epoch 86/100\n",
      "\u001b[1m597/597\u001b[0m \u001b[32m━━━━━━━━━━━━━━━━━━━━\u001b[0m\u001b[37m\u001b[0m \u001b[1m5s\u001b[0m 9ms/step - accuracy: 0.9990 - loss: 0.0025 - val_accuracy: 0.9990 - val_loss: 0.0107\n",
      "Epoch 87/100\n",
      "\u001b[1m597/597\u001b[0m \u001b[32m━━━━━━━━━━━━━━━━━━━━\u001b[0m\u001b[37m\u001b[0m \u001b[1m5s\u001b[0m 9ms/step - accuracy: 0.9990 - loss: 0.0026 - val_accuracy: 0.9990 - val_loss: 0.0120\n",
      "Epoch 88/100\n",
      "\u001b[1m597/597\u001b[0m \u001b[32m━━━━━━━━━━━━━━━━━━━━\u001b[0m\u001b[37m\u001b[0m \u001b[1m5s\u001b[0m 9ms/step - accuracy: 0.9990 - loss: 0.0028 - val_accuracy: 0.9990 - val_loss: 0.0102\n",
      "Epoch 89/100\n",
      "\u001b[1m597/597\u001b[0m \u001b[32m━━━━━━━━━━━━━━━━━━━━\u001b[0m\u001b[37m\u001b[0m \u001b[1m5s\u001b[0m 9ms/step - accuracy: 0.9991 - loss: 0.0044 - val_accuracy: 0.9990 - val_loss: 0.0091\n",
      "Epoch 90/100\n",
      "\u001b[1m597/597\u001b[0m \u001b[32m━━━━━━━━━━━━━━━━━━━━\u001b[0m\u001b[37m\u001b[0m \u001b[1m5s\u001b[0m 9ms/step - accuracy: 0.9990 - loss: 0.0026 - val_accuracy: 0.9989 - val_loss: 0.0106\n",
      "Epoch 91/100\n",
      "\u001b[1m597/597\u001b[0m \u001b[32m━━━━━━━━━━━━━━━━━━━━\u001b[0m\u001b[37m\u001b[0m \u001b[1m5s\u001b[0m 9ms/step - accuracy: 0.9990 - loss: 0.0039 - val_accuracy: 0.9990 - val_loss: 0.0114\n",
      "Epoch 92/100\n",
      "\u001b[1m597/597\u001b[0m \u001b[32m━━━━━━━━━━━━━━━━━━━━\u001b[0m\u001b[37m\u001b[0m \u001b[1m5s\u001b[0m 9ms/step - accuracy: 0.9991 - loss: 0.0027 - val_accuracy: 0.9990 - val_loss: 0.0103\n",
      "Epoch 93/100\n",
      "\u001b[1m597/597\u001b[0m \u001b[32m━━━━━━━━━━━━━━━━━━━━\u001b[0m\u001b[37m\u001b[0m \u001b[1m5s\u001b[0m 9ms/step - accuracy: 0.9990 - loss: 0.0026 - val_accuracy: 0.9990 - val_loss: 0.0124\n",
      "Epoch 94/100\n",
      "\u001b[1m597/597\u001b[0m \u001b[32m━━━━━━━━━━━━━━━━━━━━\u001b[0m\u001b[37m\u001b[0m \u001b[1m5s\u001b[0m 9ms/step - accuracy: 0.9991 - loss: 0.0023 - val_accuracy: 0.9990 - val_loss: 0.0126\n",
      "Epoch 95/100\n",
      "\u001b[1m597/597\u001b[0m \u001b[32m━━━━━━━━━━━━━━━━━━━━\u001b[0m\u001b[37m\u001b[0m \u001b[1m5s\u001b[0m 9ms/step - accuracy: 0.9989 - loss: 0.0026 - val_accuracy: 0.9990 - val_loss: 0.0109\n",
      "Epoch 96/100\n",
      "\u001b[1m597/597\u001b[0m \u001b[32m━━━━━━━━━━━━━━━━━━━━\u001b[0m\u001b[37m\u001b[0m \u001b[1m5s\u001b[0m 9ms/step - accuracy: 0.9990 - loss: 0.0027 - val_accuracy: 0.9990 - val_loss: 0.0116\n",
      "Epoch 97/100\n",
      "\u001b[1m597/597\u001b[0m \u001b[32m━━━━━━━━━━━━━━━━━━━━\u001b[0m\u001b[37m\u001b[0m \u001b[1m5s\u001b[0m 9ms/step - accuracy: 0.9990 - loss: 0.0025 - val_accuracy: 0.9990 - val_loss: 0.0129\n",
      "Epoch 98/100\n",
      "\u001b[1m597/597\u001b[0m \u001b[32m━━━━━━━━━━━━━━━━━━━━\u001b[0m\u001b[37m\u001b[0m \u001b[1m5s\u001b[0m 9ms/step - accuracy: 0.9991 - loss: 0.0027 - val_accuracy: 0.9990 - val_loss: 0.0115\n",
      "Epoch 99/100\n",
      "\u001b[1m597/597\u001b[0m \u001b[32m━━━━━━━━━━━━━━━━━━━━\u001b[0m\u001b[37m\u001b[0m \u001b[1m5s\u001b[0m 9ms/step - accuracy: 0.9989 - loss: 0.0032 - val_accuracy: 0.9990 - val_loss: 0.0106\n",
      "Epoch 100/100\n",
      "\u001b[1m597/597\u001b[0m \u001b[32m━━━━━━━━━━━━━━━━━━━━\u001b[0m\u001b[37m\u001b[0m \u001b[1m5s\u001b[0m 9ms/step - accuracy: 0.9990 - loss: 0.0023 - val_accuracy: 0.9991 - val_loss: 0.0113\n",
      "\u001b[1m4702/4702\u001b[0m \u001b[32m━━━━━━━━━━━━━━━━━━━━\u001b[0m\u001b[37m\u001b[0m \u001b[1m5s\u001b[0m 1ms/step - accuracy: 0.9990 - loss: 0.0166\n",
      "Test Accuracy: 99.91% Test Loss: 0.0113\n"
     ]
    },
    {
     "data": {
      "image/png": "[encoded data removed]",
      "text/plain": [
       "<Figure size 1000x600 with 1 Axes>"
      ]
     },
     "metadata": {},
     "output_type": "display_data"
    },
    {
     "data": {
      "image/png": "[encoded data removed]",
      "text/plain": [
       "<Figure size 1000x600 with 1 Axes>"
      ]
     },
     "metadata": {},
     "output_type": "display_data"
    }
   ],
   "source": [
    "'''import tensorflow as tf\n",
    "from tensorflow.keras import layers\n",
    "from sklearn.preprocessing import LabelEncoder, StandardScaler\n",
    "import numpy as np\n",
    "import pandas as pd\n",
    "import matplotlib.pyplot as plt\n",
    "from sklearn.model_selection import train_test_split\n",
    "\n",
    "# Charger et préparer le dataset\n",
    "def prepare_data(path):\n",
    "    df = pd.read_csv(path)\n",
    "    \n",
    "    # Encoder la colonne 'Protocol' si elle existe\n",
    "    if 'Protocol' in df.columns:\n",
    "        le_protocole = LabelEncoder()\n",
    "        df['Protocol'] = le_protocole.fit_transform(df['Protocol'])\n",
    "    \n",
    "    # Diviser les features et la cible\n",
    "    X = df.drop(columns=df.columns[-1]).values\n",
    "    y = df.iloc[:, -1].values\n",
    "    \n",
    "    # Normalisation des features\n",
    "    scaler = StandardScaler()\n",
    "    X = scaler.fit_transform(X)\n",
    "    \n",
    "    # Reshaper les données pour LSTM (ajouter une dimension pour la séquence)\n",
    "    X = X.reshape((X.shape[0], 1, X.shape[1]))  # (samples, time_steps, features)\n",
    "    \n",
    "    # Encodage des labels\n",
    "    y = LabelEncoder().fit_transform(y)\n",
    "    y = y.reshape((len(y), 1))\n",
    "    \n",
    "    return X, y\n",
    "\n",
    "# Préparer les données\n",
    "path = 'generated_dataset.csv'\n",
    "X, y = prepare_data(path)\n",
    "\n",
    "# Diviser les données en train et test\n",
    "X_train, X_test, y_train, y_test = train_test_split(X, y, test_size=0.33, random_state=42)\n",
    "\n",
    "# Définir le modèle LSTM\n",
    "def build_lstm_model(input_shape):\n",
    "    model = tf.keras.Sequential([\n",
    "        layers.LSTM(128, activation='relu', input_shape=input_shape),\n",
    "        layers.Dropout(0.5),\n",
    "        layers.Dense(64, activation='relu'),\n",
    "        layers.Dropout(0.5),\n",
    "        layers.Dense(32, activation='relu'),\n",
    "        layers.Dropout(0.5),\n",
    "        layers.Dense(1, activation='sigmoid')  # Sortie binaire\n",
    "    ])\n",
    "    model.compile(optimizer='adam', loss='binary_crossentropy', metrics=['accuracy'])\n",
    "    return model\n",
    "\n",
    "# Construire le modèle\n",
    "model = build_lstm_model(input_shape=(X_train.shape[1], X_train.shape[2]))\n",
    "\n",
    "# Entraîner le modèle\n",
    "history = model.fit(X_train, y_train, epochs=100, batch_size=512, validation_data=(X_test, y_test))\n",
    "\n",
    "# Évaluer le modèle\n",
    "test_loss, test_acc = model.evaluate(X_test, y_test)\n",
    "print(f\"Test Accuracy: {test_acc * 100:.2f}% Test Loss: {test_loss:.4f}\")\n",
    "\n",
    "# Tracer l'historique de l'entraînement (précision et perte)\n",
    "\n",
    "# Précision\n",
    "plt.figure(figsize=(10, 6))\n",
    "plt.plot(history.history['accuracy'], label='Train Accuracy', color='blue', linestyle='-', marker='o')\n",
    "plt.plot(history.history['val_accuracy'], label='Test Accuracy', color='red', linestyle='-', marker='o')\n",
    "plt.title('Training and Test Accuracy over Epochs')\n",
    "plt.xlabel('Epochs')\n",
    "plt.ylabel('Accuracy')\n",
    "plt.legend()\n",
    "plt.grid(True)\n",
    "plt.show()\n",
    "\n",
    "# Perte\n",
    "plt.figure(figsize=(10, 6))\n",
    "plt.plot(history.history['loss'], label='Train Loss', color='green', linestyle='-', marker='o')\n",
    "plt.plot(history.history['val_loss'], label='Test Loss', color='orange', linestyle='-', marker='o')\n",
    "plt.title('Training and Test Loss over Epochs')\n",
    "plt.xlabel('Epochs')\n",
    "plt.ylabel('Loss')\n",
    "plt.legend()\n",
    "plt.grid(True)\n",
    "plt.show()\n",
    "'''\n"
   ]
  },
  {
   "cell_type": "code",
   "execution_count": 110,
   "id": "8c661f08-9bea-4990-bb5f-6b269a0b689a",
   "metadata": {},
   "outputs": [],
   "source": [
    "path = 'generated_dataset.csv'\n",
    "dataset = CSVDataset(path)\n",
    "\n",
    "# Sauvegarder la ligne 5 des caractéristiques sous le format JSON\n",
    "dataset.save_row_as_json(1, 'ligne_1_features.json')"
   ]
  },
  {
   "cell_type": "code",
   "execution_count": 128,
   "id": "d29becb4-ed9e-4988-ba79-ae5ceb71ff27",
   "metadata": {},
   "outputs": [],
   "source": [
    "def predict(row, model):\n",
    "    # convert row to data\n",
    "    row = Tensor([row])\n",
    "    # make prediction\n",
    "    # retrieve numpy array\n",
    "    with torch.no_grad():\n",
    "            prediction = model(row).numpy()\n",
    "    return prediction"
   ]
  },
  {
   "cell_type": "code",
   "execution_count": 136,
   "id": "f6c999c4-2ef3-4da2-8d8e-c7f2002f63b1",
   "metadata": {},
   "outputs": [
    {
     "name": "stdout",
     "output_type": "stream",
     "text": [
      "[-2.47793579e+00 -4.08372104e-01 -4.05181438e-01 -2.18049902e-02\n",
      " -7.71479011e-02 -2.59983409e-02 -2.72847146e-01  2.19089198e+00\n",
      " -2.34421581e-01 -1.45173979e+00  2.56749177e+00 -4.13281530e-01\n",
      " -1.66657060e-01 -2.80590039e-02 -3.87842774e-01 -4.03742224e-01\n",
      " -2.19479222e-02 -3.58663231e-01 -3.43598872e-01 -3.65028679e-01\n",
      " -1.91709250e-02 -2.74080724e-01 -3.15263897e-01 -7.07819834e-02\n",
      " -5.00218153e-01 -6.18732572e-01  0.00000000e+00 -4.89264220e-01\n",
      " -3.07532519e-01 -7.14906216e-01 -3.65029335e-01 -2.67093271e-01\n",
      " -1.39871836e+00 -2.09839606e+00 -6.16388798e-01 -6.20967746e-01\n",
      " -5.65414667e-01  3.02705646e-01 -3.59166376e-02 -5.03833145e-02\n",
      " -5.60023040e-02 -7.10306391e-02 -1.48108648e-03 -1.36392927e+00\n",
      " -3.57634634e-01 -1.85569286e+00 -2.60414600e-01 -9.39585194e-02\n",
      " -1.11897506e-01 -4.88441717e-03 -5.73631190e-03 -2.17401892e-01]\n",
      "[[1.]]\n"
     ]
    }
   ],
   "source": [
    "path = 'generated_dataset.csv'\n",
    "dataset = CSVDataset(path)\n",
    "row=dataset.get_row_for_prediction(9)\n",
    "print(row)\n",
    "yhat = predict(row, model)\n",
    "print(yhat)"
   ]
  },
  {
   "cell_type": "code",
   "execution_count": 101,
   "id": "f77c183b-a063-4f15-baa1-5fecf789bec9",
   "metadata": {},
   "outputs": [
    {
     "name": "stdout",
     "output_type": "stream",
     "text": [
      "Scaled and Normalized Features (X):\n",
      "[[ 0.39524525 -0.39419052 -0.40285873 ... -0.00488442 -0.00573631\n",
      "  -0.2160186 ]\n",
      " [ 0.39524525 -0.39419052 -0.40323734 ... -0.00488442 -0.00573631\n",
      "  -0.21611992]\n",
      " [ 0.39524525 -0.39419052 -0.40340945 ... -0.00488442 -0.00573631\n",
      "  -0.21613733]\n",
      " ...\n",
      " [ 0.39524525 -0.39419052 -0.4032091  ... -0.00488442 -0.00573631\n",
      "  -0.21610901]\n",
      " [ 0.39524525  1.3438429  -0.25901735 ... -0.00488442 -0.00573631\n",
      "  -0.18289542]\n",
      " [-2.4779358  -0.4083721  -0.40596685 ... -0.00488442 -0.00573631\n",
      "  -0.21740189]]\n",
      "Labels (y):\n",
      "[[0.]\n",
      " [0.]\n",
      " [0.]\n",
      " ...\n",
      " [0.]\n",
      " [1.]\n",
      " [1.]]\n"
     ]
    }
   ],
   "source": [
    "path = 'generated_dataset.csv'\n",
    "dataset = CSVDataset(path)\n",
    "\n",
    "dataset.print_data()\n"
   ]
  },
  {
   "cell_type": "code",
   "execution_count": null,
   "id": "e821d800-ccfa-482b-adad-356c801cc452",
   "metadata": {},
   "outputs": [],
   "source": []
  }
 ],
 "metadata": {
  "kernelspec": {
   "display_name": "Python 3 (ipykernel)",
   "language": "python",
   "name": "python3"
  },
  "language_info": {
   "codemirror_mode": {
    "name": "ipython",
    "version": 3
   },
   "file_extension": ".py",
   "mimetype": "text/x-python",
   "name": "python",
   "nbconvert_exporter": "python",
   "pygments_lexer": "ipython3",
   "version": "3.9.6"
  }
 },
 "nbformat": 4,
 "nbformat_minor": 5
}
